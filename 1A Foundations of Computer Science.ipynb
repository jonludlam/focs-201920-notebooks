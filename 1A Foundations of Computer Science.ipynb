{
 "cells": [
  {
   "cell_type": "markdown",
   "metadata": {
    "slideshow": {
     "slide_type": "slide"
    }
   },
   "source": [
    "## Foundations of Computer Science\n",
    "This course has two aims. The first is to teach programming. The second is to\n",
    "present some fundamental principles of computer science, especially algorithm\n",
    "design. Most students will have some programming experience already, but there\n",
    "are few people whose programming cannot be improved through greater knowledge\n",
    "of basic principles.\n",
    "\n",
    "The programming in this course is based on the language [OCaml](https://ocaml.org)\n",
    "and mostly concerns the functional programming style.\n",
    "\n",
    "**This is a work-in-progress port of Lawrence C. Paulson's 2018-19 Cambridge\n",
    "course notes. Contact: Anil Madhavapeddy avsm2, Jon Ludlam jjl25**\n"
   ]
  },
  {
   "cell_type": "markdown",
   "metadata": {
    "slideshow": {
     "slide_type": "slide"
    }
   },
   "source": [
    "## Lecture 1: Algorithms and Recursive Functions "
   ]
  },
  {
   "cell_type": "markdown",
   "metadata": {
    "slideshow": {
     "slide_type": "slide"
    }
   },
   "source": [
    "### Basic Concepts in Computer Science\n",
    "\n",
    "- Computers: a child can use them; **nobody** can fully understand them!\n",
    "- We can master complexity through levels of abstraction.\n",
    "- Focus on 2 or 3 levels at most!\n",
    "\n",
    "**Recurring issues:**\n",
    "- what services to provide at each level\n",
    "- how to implement them using lower-level services\n",
    "- the interface: how the two levels should communicate"
   ]
  },
  {
   "cell_type": "markdown",
   "metadata": {
    "slideshow": {
     "slide_type": "subslide"
    }
   },
   "source": [
    "A basic concept in computer science is that large systems can only be\n",
    "understood in levels, with each level further subdivided into functions or\n",
    "services of some sort. The interface to the higher level should supply the\n",
    "advertised services. Just as important, it should block access to the means by\n",
    "which those services are implemented. This _abstraction barrier_ allows one\n",
    "level to be changed without affecting levels above. For example, when a\n",
    "manufacturer designs a faster version of a processor, it is essential that\n",
    "existing programs continue to run on it. Any differences between the old and\n",
    "new processors should be invisible to the program.\n",
    "\n",
    "Modern processors have elaborate specifications, which still sometimes leave\n",
    "out important details. In the old days, you then had to consult the circuit\n",
    "diagrams."
   ]
  },
  {
   "cell_type": "markdown",
   "metadata": {
    "slideshow": {
     "slide_type": "slide"
    }
   },
   "source": [
    "### Example 1: Dates\n",
    "\n",
    "- Abstract level: dates over a certain interval\n",
    "- Concrete level: typically 6 characters: `YYMMDD` (where each character is represented by 8 bits)\n",
    "- Date crises caused by __inadequate__ internal formats:\n",
    "  * Digital’s PDP-10: using 12-bit dates (good for at most 11 years)\n",
    "  * 2000 crisis: 48 bits could be good for lifetime of universe!"
   ]
  },
  {
   "cell_type": "markdown",
   "metadata": {
    "slideshow": {
     "slide_type": "subslide"
    }
   },
   "source": [
    "Digital Equipment Corporation’s date crisis occurred in 1975.  The\n",
    "PDP-10 was a 36-bit mainframe computer. It represented dates using a 12-bit\n",
    "format designed for the tiny PDP-8. With 12 bits, one can distinguish\n",
    "$2^{12} = 4096$ days or 11 years.\n",
    "\n",
    "The most common industry format for dates uses six characters: two for the\n",
    "year, two for the month and two for the day. The most common \"solution\" to the\n",
    "year 2000 crisis is to add two further characters, thereby altering file sizes.\n",
    "Others have noticed that the existing six characters consist of 48 bits,\n",
    "already sufficient to represent all dates over the projected lifetime of the\n",
    "universe: $2^{48}$ = $2.8 * 1014$ days = $7.7 * 1011$ years!\n",
    "\n",
    "Mathematicians think in terms of unbounded ranges, but the representation we\n",
    "choose for the computer usually imposes hard limits. A good programming\n",
    "language like OCaml lets one easily change the representation used in the\n",
    "program.  But if files in the old representation exist all over the place,\n",
    "there will still be conversion problems. The need for compatibility with older\n",
    "systems causes problems across the computer industry."
   ]
  },
  {
   "cell_type": "markdown",
   "metadata": {
    "slideshow": {
     "slide_type": "slide"
    }
   },
   "source": [
    "#### Example II: Floating Point Numbers\n",
    "\n",
    "Computers have integers like `1066` and floats like $1.066 x 10^3$.\n",
    "A floating-point number is represented by two integers.\n",
    "The concept of _data type_ involves:\n",
    "* how a value is represented inside the computer\n",
    "* the suite of operations given to programmers\n",
    "* valid and invalid (or exceptional) results, such as “infinity”\n",
    "Computer arithmetic can yield _incorrect answers_!"
   ]
  },
  {
   "cell_type": "markdown",
   "metadata": {
    "slideshow": {
     "slide_type": "subslide"
    }
   },
   "source": [
    "In science, numbers written with finite precision and a decimal exponent are\n",
    "said to be in _standard form_. The computational equivalent is the _floating\n",
    "point number_. These are familiar to anybody who has used a scientific\n",
    "calculator.  Internally, a float consists of two integers.\n",
    "\n",
    "Because of its finite precision, floating-point computations are potentially\n",
    "inaccurate. To see an example, use your nearest electronic calculator to\n",
    "compute $(2^{1/10000})10000$. I get $1.99999959$! With certain computations,\n",
    "the errors spiral out of control. Many programming languages fail to check\n",
    "whether even integer computations fall within the allowed range: you can add\n",
    "two positive integers and get a negative one!"
   ]
  },
  {
   "cell_type": "markdown",
   "metadata": {
    "slideshow": {
     "slide_type": "subslide"
    }
   },
   "source": [
    "Most computers give us a choice of precisions. In 32-bit precision, integers\n",
    "typically range from $2^{31} − 1$ (namely $2,147,483,647$) to $−2^{31}$; reals\n",
    "are accurate to about six decimal places and can get as large as 1035 or so.\n",
    "For reals, 64-bit precision is often preferred. Early languages like Fortran\n",
    "required variables to be declared as `INTEGER`, `REAL` or `COMPLEX` and barred\n",
    "programmers from mixing numbers in a computation. Nowadays, programs handle\n",
    "many different kinds of data, including text and symbols. The concept of a\n",
    "_data type_ can ensure that different types of data are not combined in a\n",
    "senseless way.\n",
    "\n",
    "Inside the computer, all data are stored as bits. In most programming\n",
    "languages, the compiler uses types to generate correct machine code, and types\n",
    "are not stored during program execution. In this course, we focus almost\n",
    "entirely on programming in a high-level language: OCaml."
   ]
  },
  {
   "cell_type": "markdown",
   "metadata": {
    "slideshow": {
     "slide_type": "slide"
    }
   },
   "source": [
    "#### Goals of Programming\n",
    "\n",
    "- to describe a computation so that it can be done _mechanically_:\n",
    "  * Expressions compute values.\n",
    "  * Commands cause effects.\n",
    "- to do so efficiently and **correctly**, giving the right answers quickly\n",
    "- to allow easy modification as needs change\n",
    "  * Through an orderly _structure_ based on abstraction principles\n",
    "  * Such as modules or (Java) classes"
   ]
  },
  {
   "cell_type": "markdown",
   "metadata": {
    "slideshow": {
     "slide_type": "subslide"
    }
   },
   "source": [
    "Programming _in-the-small_ concerns the writing of code to do simple, clearly\n",
    "defined tasks. Programs provide expressions for describing mathematical\n",
    "formulae and so forth. (This was the original contribution of FORTRAN, the\n",
    "FORmula TRANslator.) Commands describe how control should flow from one part of\n",
    "the program to the next.\n",
    "\n",
    "As we code layer upon layer, we eventually find ourselves programming\n",
    "_in-the-large_: joining large modules to solve some messy task. Programming\n",
    "languages have used various mechanisms to allow one part of the program to\n",
    "provide interfaces to other parts. Modules encapsulate a body of code, allowing\n",
    "outside access only through a programmer-defined interface. _Abstract Data\n",
    "Types_ are a simpler version of this concept, which implement a single concept\n",
    "such as dates or floating-point numbers."
   ]
  },
  {
   "cell_type": "markdown",
   "metadata": {
    "slideshow": {
     "slide_type": "subslide"
    }
   },
   "source": [
    "_Object-oriented programming_ is the most complicated approach to modularity.\n",
    "_Classes_ define concepts, and they can be built upon other classes. Operations\n",
    "can be defined that work in appropriately specialized ways on a family of\n",
    "related classes. _Objects_ are instances of classes and hold the data that is\n",
    "being manipulated.\n",
    "\n",
    "This course does not cover OCaml's sophisticated module system, which can do\n",
    "many of the same things as classes. You will learn all about objects when you\n",
    "study Java."
   ]
  },
  {
   "cell_type": "markdown",
   "metadata": {
    "slideshow": {
     "slide_type": "slide"
    }
   },
   "source": [
    "### Why Program in ML?\n",
    "\n",
    "* Why Program in ML?\n",
    "* It is interactive.\n",
    "* It has a flexible notion of _data type_.\n",
    "* It hides the underlying hardware: _no crashes_.\n",
    "* Programs can easily be understood mathematically.\n",
    "* It distinguishes naming something from _updating memory_.\n",
    "* It manages storage for us."
   ]
  },
  {
   "cell_type": "markdown",
   "metadata": {
    "slideshow": {
     "slide_type": "subslide"
    }
   },
   "source": [
    "Standard ML is the outcome of years of research into\n",
    "programming languages. It is unique, defined using a mathematical formalism (an\n",
    "operational semantics) that is both precise and comprehensible. Several\n",
    "supported compilers are available, and thanks to the formal definition, there\n",
    "are remarkably few incompatibilities among them. _(TODO edit)_"
   ]
  },
  {
   "cell_type": "markdown",
   "metadata": {
    "slideshow": {
     "slide_type": "subslide"
    }
   },
   "source": [
    "Because of its connection to mathematics, ML programs can be designed and\n",
    "understood without thinking in detail about how the computer will run them.\n",
    "Although a program can abort, it cannot crash: it remains under the control of\n",
    "the OCaml system. It still achieves respectable efficiency and provides\n",
    "lower-level primitives for those who need them. Most other languages allow\n",
    "direct access to the underlying machine and even try to execute illegal\n",
    "operations, causing crashes.\n",
    "\n",
    "The only way to learn programming is by writing and running programs. This\n",
    "web notebook provides an interactive environment where you can modify\n",
    "the example fragments and see the results for yourself.  You should also\n",
    "consider installing OCaml on your own computer so that you try more\n",
    "advanced programs locally."
   ]
  },
  {
   "cell_type": "markdown",
   "metadata": {
    "slideshow": {
     "slide_type": "slide"
    }
   },
   "source": [
    "### A first session with OCaml"
   ]
  },
  {
   "cell_type": "code",
   "execution_count": 2,
   "metadata": {
    "slideshow": {
     "slide_type": "fragment"
    }
   },
   "outputs": [
    {
     "data": {
      "text/plain": [
       "val pi : float = 3.1415926535\n"
      ]
     },
     "execution_count": 2,
     "metadata": {},
     "output_type": "execute_result"
    }
   ],
   "source": [
    "let pi = 3.1415926535"
   ]
  },
  {
   "cell_type": "markdown",
   "metadata": {
    "slideshow": {
     "slide_type": "notes"
    }
   },
   "source": [
    "The first line of this simple session is a _value declaration_. It makes the\n",
    "name `pi` stand for the floating point number `3.14159`. (Such names are called\n",
    "_identifiers_.)  OCaml echoes the name (`pi`) and type (`float`) of the\n",
    "declared identifier.\n"
   ]
  },
  {
   "cell_type": "code",
   "execution_count": 3,
   "metadata": {
    "slideshow": {
     "slide_type": "fragment"
    }
   },
   "outputs": [
    {
     "data": {
      "text/plain": [
       "- : float = 7.068583470375\n"
      ]
     },
     "execution_count": 3,
     "metadata": {},
     "output_type": "execute_result"
    }
   ],
   "source": [
    "pi *. 1.5 *. 1.5"
   ]
  },
  {
   "cell_type": "markdown",
   "metadata": {
    "slideshow": {
     "slide_type": "notes"
    }
   },
   "source": [
    "The second line computes the area of the circle with radius `1.5` using the\n",
    "formula $A = \\pi r^2$. We use `pi` as an abbreviation for `3.14159`.\n",
    "Multiplication is expressed using `*.`, which is called an _infix operator_\n",
    "because it is written between its two operands.\n",
    "\n",
    "OCaml replies with the computed value (about `7.07`) and its type (again `float`).\n"
   ]
  },
  {
   "cell_type": "code",
   "execution_count": 4,
   "metadata": {
    "slideshow": {
     "slide_type": "fragment"
    }
   },
   "outputs": [
    {
     "data": {
      "text/plain": [
       "val area : float -> float = <fun>\n"
      ]
     },
     "execution_count": 4,
     "metadata": {},
     "output_type": "execute_result"
    }
   ],
   "source": [
    "let area r = pi *. r *. r"
   ]
  },
  {
   "cell_type": "markdown",
   "metadata": {
    "slideshow": {
     "slide_type": "notes"
    }
   },
   "source": [
    "To work abstractly, we should provide the service \"compute the area of a\n",
    "circle,\" so that we no longer need to remember the formula. This sort of\n",
    "encapsulated computation is called a _function_. The third line declares the\n",
    "function `area`. Given any floating point number `r`, it returns another\n",
    "floating point number computed using the `area` formula; note that the function\n",
    "has type `float -> float`.\n"
   ]
  },
  {
   "cell_type": "code",
   "execution_count": 5,
   "metadata": {
    "slideshow": {
     "slide_type": "fragment"
    }
   },
   "outputs": [
    {
     "data": {
      "text/plain": [
       "- : float = 12.566370614\n"
      ]
     },
     "execution_count": 5,
     "metadata": {},
     "output_type": "execute_result"
    }
   ],
   "source": [
    "area 2.0"
   ]
  },
  {
   "cell_type": "markdown",
   "metadata": {
    "slideshow": {
     "slide_type": "notes"
    }
   },
   "source": [
    "The fourth line calls the function `area` supplying `2.0` as the argument. A\n",
    "circle of radius `2` has an area of about `12.6`. Note that brackets around a\n",
    "function argument are not necessary.\n",
    "\n",
    "The function uses `pi` to stand for `3.14159`. Unlike what you may have seen in\n",
    "other programming languages, `pi` cannot be \"assigned to\" or otherwise updated.\n",
    "Its meaning within `area` will persist even if we issue a new `let` declaration\n",
    "for `pi` afterwards.\n"
   ]
  },
  {
   "cell_type": "markdown",
   "metadata": {
    "slideshow": {
     "slide_type": "slide"
    }
   },
   "source": [
    "# Remainder of Content"
   ]
  },
  {
   "cell_type": "markdown",
   "metadata": {
    "slideshow": {
     "slide_type": "subslide"
    },
    "solution": "shown",
    "solution2": "hidden",
    "solution2_first": true,
    "solution_first": true
   },
   "source": [
    "### Exercise 1.2\n",
    "Using the date representation of the previous exercise, code OCaml functions to:\n",
    "- compare two years\n",
    "- add/subtract some given number of years from another year.\n",
    "\n",
    "(You may need to look ahead to the next lecture for OCaml’s comparison operators.)\n"
   ]
  },
  {
   "cell_type": "code",
   "execution_count": 6,
   "metadata": {
    "slideshow": {
     "slide_type": "subslide"
    },
    "solution2": "hidden"
   },
   "outputs": [
    {
     "data": {
      "text/plain": [
       "val x : string = \"answer\"\n"
      ]
     },
     "execution_count": 6,
     "metadata": {},
     "output_type": "execute_result"
    }
   ],
   "source": [
    "let x = \"answer\""
   ]
  },
  {
   "cell_type": "code",
   "execution_count": 7,
   "metadata": {
    "slideshow": {
     "slide_type": "slide"
    }
   },
   "outputs": [
    {
     "data": {
      "text/plain": [
       "val toSeconds : float -> float -> float = <fun>\n"
      ]
     },
     "execution_count": 7,
     "metadata": {},
     "output_type": "execute_result"
    }
   ],
   "source": [
    "let toSeconds minutes seconds =\n",
    "  seconds +. (60.0 *. minutes)"
   ]
  },
  {
   "cell_type": "code",
   "execution_count": 8,
   "metadata": {},
   "outputs": [
    {
     "data": {
      "text/plain": [
       "val fromSeconds : float -> float * float = <fun>\n"
      ]
     },
     "execution_count": 8,
     "metadata": {},
     "output_type": "execute_result"
    }
   ],
   "source": [
    "let fromSeconds seconds =\n",
    "  (seconds /. 60.0), (mod_float seconds 60.0)"
   ]
  },
  {
   "cell_type": "code",
   "execution_count": 9,
   "metadata": {},
   "outputs": [
    {
     "data": {
      "text/plain": [
       "val npower : float -> int -> float = <fun>\n"
      ]
     },
     "execution_count": 9,
     "metadata": {},
     "output_type": "execute_result"
    }
   ],
   "source": [
    "let rec npower x n =\n",
    "  if n = 0 then 1.0\n",
    "  else x *. npower x (n-1)"
   ]
  },
  {
   "cell_type": "markdown",
   "metadata": {},
   "source": [
    "### Type constraints"
   ]
  },
  {
   "cell_type": "code",
   "execution_count": 10,
   "metadata": {},
   "outputs": [
    {
     "data": {
      "text/plain": [
       "val square : float -> float = <fun>\n"
      ]
     },
     "execution_count": 10,
     "metadata": {},
     "output_type": "execute_result"
    }
   ],
   "source": [
    "let square x = x *. x;"
   ]
  },
  {
   "cell_type": "code",
   "execution_count": 11,
   "metadata": {},
   "outputs": [
    {
     "data": {
      "text/plain": [
       "val square : float -> float = <fun>\n"
      ]
     },
     "execution_count": 11,
     "metadata": {},
     "output_type": "execute_result"
    }
   ],
   "source": [
    "let square x : float = x *. x"
   ]
  },
  {
   "cell_type": "code",
   "execution_count": 12,
   "metadata": {},
   "outputs": [
    {
     "data": {
      "text/plain": [
       "val square : float -> float = <fun>\n"
      ]
     },
     "execution_count": 12,
     "metadata": {},
     "output_type": "execute_result"
    }
   ],
   "source": [
    "let square (x:float) = x *. x"
   ]
  },
  {
   "cell_type": "markdown",
   "metadata": {},
   "source": [
    "A boolean-valued function to test whether a number is even:\n"
   ]
  },
  {
   "cell_type": "code",
   "execution_count": 13,
   "metadata": {},
   "outputs": [
    {
     "data": {
      "text/plain": [
       "val even : int -> bool = <fun>\n"
      ]
     },
     "execution_count": 13,
     "metadata": {},
     "output_type": "execute_result"
    }
   ],
   "source": [
    "let even n =\n",
    "n mod 2 = 0"
   ]
  },
  {
   "cell_type": "markdown",
   "metadata": {},
   "source": [
    "raising to an integer power--fast version\n"
   ]
  },
  {
   "cell_type": "code",
   "execution_count": 14,
   "metadata": {},
   "outputs": [
    {
     "data": {
      "text/plain": [
       "val power : float -> int -> float = <fun>\n"
      ]
     },
     "execution_count": 14,
     "metadata": {},
     "output_type": "execute_result"
    }
   ],
   "source": [
    "let rec power x n : float =\n",
    "  if n = 1 then x\n",
    "  else if even n then      power (x *. x) (n / 2)\n",
    "                 else x *. power (x *. x) (n / 2)"
   ]
  },
  {
   "cell_type": "markdown",
   "metadata": {},
   "source": [
    "the sum of the first n integers\n"
   ]
  },
  {
   "cell_type": "code",
   "execution_count": 15,
   "metadata": {},
   "outputs": [
    {
     "data": {
      "text/plain": [
       "val nsum : int -> int = <fun>\n"
      ]
     },
     "execution_count": 15,
     "metadata": {},
     "output_type": "execute_result"
    }
   ],
   "source": [
    "let rec nsum n =\n",
    "  if n = 0 then 0\n",
    "           else n + nsum (n-1)"
   ]
  },
  {
   "cell_type": "code",
   "execution_count": 16,
   "metadata": {},
   "outputs": [
    {
     "data": {
      "text/plain": [
       "val summing : int -> int -> int = <fun>\n"
      ]
     },
     "execution_count": 16,
     "metadata": {},
     "output_type": "execute_result"
    }
   ],
   "source": [
    "let rec summing n total =\n",
    "  if n = 0 then total\n",
    "           else summing (n-1) (n + total)"
   ]
  },
  {
   "cell_type": "markdown",
   "metadata": {},
   "source": [
    "with an exponential runtime\n"
   ]
  },
  {
   "cell_type": "code",
   "execution_count": 17,
   "metadata": {},
   "outputs": [
    {
     "data": {
      "text/plain": [
       "val stupidSum : int -> int = <fun>\n"
      ]
     },
     "execution_count": 17,
     "metadata": {},
     "output_type": "execute_result"
    }
   ],
   "source": [
    "let rec stupidSum n =\n",
    "  if n = 0 then 0\n",
    "           else n + (stupidSum (n-1) + stupidSum (n-1)) / 2"
   ]
  }
 ],
 "metadata": {
  "celltoolbar": "Slideshow",
  "kernelspec": {
   "display_name": "OCaml 4.06.0",
   "language": "OCaml",
   "name": "ocaml-jupyter"
  },
  "language_info": {
   "codemirror_mode": "text/x-ocaml",
   "file_extension": ".ml",
   "mimetype": "text/x-ocaml",
   "name": "OCaml",
   "nbconverter_exporter": null,
   "pygments_lexer": "OCaml",
   "version": "4.06.0"
  }
 },
 "nbformat": 4,
 "nbformat_minor": 2
}
