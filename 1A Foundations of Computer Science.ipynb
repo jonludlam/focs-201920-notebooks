{
  "metadata": {
    "kernelspec": {
      "display_name": "OCaml 4.07.1",
      "language": "OCaml",
      "name": "ocaml-jupyter"
    },
    "language_info": {
      "name": "OCaml",
      "version": "4.07.1",
      "codemirror_mode": "text/x-ocaml",
      "file_extension": ".ml",
      "mimetype": "text/x-ocaml",
      "nbconverter_exporter": null,
      "pygments_lexer": "OCaml"
    }
  },
  "nbformat": 4,
  "nbformat_minor": 2,
  "cells": [
    {
      "cell_type": "markdown",
      "metadata": {},
      "source": "\nThis course has two aims. The first is to teach programming. The second is to\npresent some fundamental principles of computer science, especially algorithm\ndesign. Most students will have some programming experience already, but there\nare few people whose programming cannot be improved through greater knowledge\nof basic principles. Please bear this point in mind if you have extensive\nexperience and find parts of the course rather slow.\n\nThe programming in this course is based on the language [OCaml](https://ocaml.org)\nand mostly concerns the functional programming style. Functional programs tend\nto be shorter and easier to understand than their counterparts in conventional\nlanguages such as C. In the space of a few weeks, we shall cover many\nfundamental data structures and learn basic methods for estimating efficiency.\n\n**this is a work-in-progress port of Lawrence C. Paulson's 1819 Cambridge\ncourse notes**\n"
    },
    {
      "cell_type": "markdown",
      "metadata": {},
      "source": "\n- Computers: a child can use them; **nobody** can fully understand them!\n- We can master complexity through levels of abstraction.\n- Focus on 2 or 3 levels at most!\n\n**Recurring issues:**\n- what services to provide at each level\n- how to implement them using lower-level services\n- the interface: how the two levels should communicate\n\nA basic concept in computer science is that large systems can only be\nunderstood in levels, with each level further subdivided into functions or\nservices of some sort. The interface to the higher level should supply the\nadvertised services. Just as important, it should block access to the means by\nwhich those services are implemented. This _abstraction barrier_ allows one\nlevel to be changed without affecting levels above. For example, when a\nmanufacturer designs a faster version of a processor, it is essential that\nexisting programs continue to run on it. Any differences between the old and\nnew processors should be invisible to the program.\n\nModern processors have elaborate specifications, which still sometimes leave\nout important details. In the old days, you then had to consult the circuit\ndiagrams.\n"
    },
    {
      "cell_type": "markdown",
      "metadata": {},
      "source": "\n- Abstract level: dates over a certain interval\n- Concrete level: typically 6 characters: `YYMMDD` (where each character is represented by 8 bits)\n- Date crises caused by __inadequate__ internal formats:\n  * Digital’s PDP-10: using 12-bit dates (good for at most 11 years)\n  * 2000 crisis: 48 bits could be good for lifetime of universe!\n\nDigital Equipment Corporation’s date crisis occurred in 1975.  The\nPDP-10 was a 36-bit mainframe computer. It represented dates using a 12-bit\nformat designed for the tiny PDP-8. With 12 bits, one can distinguish\n$2^{12} = 4096$ days or 11 years.\n\nThe most common industry format for dates uses six characters: two for the\nyear, two for the month and two for the day. The most common \"solution\" to the\nyear 2000 crisis is to add two further characters, thereby altering file sizes.\nOthers have noticed that the existing six characters consist of 48 bits,\nalready sufficient to represent all dates over the projected lifetime of the\nuniverse: $2^{48}$ = $2.8 * 1014$ days = $7.7 * 1011$ years!\n\nMathematicians think in terms of unbounded ranges, but the representation we\nchoose for the computer usually imposes hard limits. A good programming\nlanguage like OCaml lets one easily change the representation used in the\nprogram.  But if files in the old representation exist all over the place,\nthere will still be conversion problems. The need for compatibility with older\nsystems causes problems across the computer industry.\n"
    },
    {
      "cell_type": "markdown",
      "metadata": {},
      "source": "\nComputers have integers like `1066` and floats like $1.066 x 10^3$.\nA floating-point number is represented by two integers.\nThe concept of _data type_ involves:\n* how a value is represented inside the computer\n* the suite of operations given to programmers\n* valid and invalid (or exceptional) results, such as “infinity”\nComputer arithmetic can yield _incorrect answers_!\n\nIn science, numbers written with finite precision and a decimal exponent are\nsaid to be in _standard form_. The computational equivalent is the _floating\npoint number_. These are familiar to anybody who has used a scientific\ncalculator.  Internally, a float consists of two integers.\n\nBecause of its finite precision, floating-point computations are potentially\ninaccurate. To see an example, use your nearest electronic calculator to\ncompute $(2^{1/10000})10000$. I get $1.99999959$! With certain computations,\nthe errors spiral out of control. Many programming languages fail to check\nwhether even integer computations fall within the allowed range: you can add\ntwo positive integers and get a negative one!\n\nMost computers give us a choice of precisions. In 32-bit precision, integers\ntypically range from $2^{31} − 1$ (namely $2,147,483,647$) to $−2^{31}$; reals\nare accurate to about six decimal places and can get as large as 1035 or so.\nFor reals, 64-bit precision is often preferred. Early languages like Fortran\nrequired variables to be declared as `INTEGER`, `REAL` or `COMPLEX` and barred\nprogrammers from mixing numbers in a computation. Nowadays, programs handle\nmany different kinds of data, including text and symbols. The concept of a\n_data type_ can ensure that different types of data are not combined in a\nsenseless way.\n\nInside the computer, all data are stored as bits. In most programming\nlanguages, the compiler uses types to generate correct machine code, and types\nare not stored during program execution. In this course, we focus almost\nentirely on programming in a high-level language: OCaml.\n"
    },
    {
      "cell_type": "markdown",
      "metadata": {},
      "source": "\n- to describe a computation so that it can be done _mechanically_:\n  * Expressions compute values.\n  * Commands cause effects.\n- to do so efficiently and **correctly**, giving the right answers quickly\n- to allow easy modification as needs change\n  * Through an orderly _structure_ based on abstraction principles\n  * Such as modules or (Java) classes\n\nProgramming _in-the-small_ concerns the writing of code to do simple, clearly\ndefined tasks. Programs provide expressions for describing mathematical\nformulae and so forth. (This was the original contribution of FORTRAN, the\nFORmula TRANslator.) Commands describe how control should flow from one part of\nthe program to the next.\n\nAs we code layer upon layer, we eventually find ourselves programming\n_in-the-large_: joining large modules to solve some messy task. Programming\nlanguages have used various mechanisms to allow one part of the program to\nprovide interfaces to other parts. Modules encapsulate a body of code, allowing\noutside access only through a programmer-defined interface. _Abstract Data\nTypes_ are a simpler version of this concept, which implement a single concept\nsuch as dates or floating-point numbers.\n\n_Object-oriented programming_ is the most complicated approach to modularity.\n_Classes_ define concepts, and they can be built upon other classes. Operations\ncan be defined that work in appropriately specialized ways on a family of\nrelated classes. _Objects_ are instances of classes and hold the data that is\nbeing manipulated.\n\nThis course does not cover OCaml's sophisticated module system, which can do\nmany of the same things as classes. You will learn all about objects when you\nstudy Java.\n"
    },
    {
      "cell_type": "markdown",
      "metadata": {},
      "source": "\n* Why Program in ML?\n* It is interactive.\n* It has a flexible notion of _data type_.\n* It hides the underlying hardware: _no crashes_.\n* Programs can easily be understood mathematically.\n* It distinguishes naming something from _updating memory_.\n* It manages storage for us.\n\nStandard ML is the outcome of years of research into\nprogramming languages. It is unique, defined using a mathematical formalism (an\noperational semantics) that is both precise and comprehensible. Several\nsupported compilers are available, and thanks to the formal definition, there\nare remarkably few incompatibilities among them. _(TODO edit)_\n\nBecause of its connection to mathematics, ML programs can be designed and\nunderstood without thinking in detail about how the computer will run them.\nAlthough a program can abort, it cannot crash: it remains under the control of\nthe OCaml system. It still achieves respectable efficiency and provides\nlower-level primitives for those who need them. Most other languages allow\ndirect access to the underlying machine and even try to execute illegal\noperations, causing crashes.\n\nThe only way to learn programming is by writing and running programs. This\nweb notebook provides an interactive environment where you can modify\nthe example fragments and see the results for yourself.  You should also\nconsider installing OCaml on your own computer so that you try more\nadvanced programs locally.\n"
    },
    {
      "cell_type": "code",
      "metadata": {},
      "source": "let pi = 3.14159265358979",
      "outputs": [],
      "execution_count": 1
    },
    {
      "cell_type": "markdown",
      "metadata": {},
      "source": "\nThe first line of this simple session is a _value declaration_. It makes the\nname `pi` stand for the floating point number `3.14159`. (Such names are called\n_identifiers_.)  OCaml echoes the name (`pi`) and type (`float`) of the\ndeclared identifier.\n"
    },
    {
      "cell_type": "code",
      "metadata": {},
      "source": "pi *. 1.5 *. 1.5",
      "outputs": [],
      "execution_count": 2
    },
    {
      "cell_type": "markdown",
      "metadata": {},
      "source": "\nThe second line computes the area of the circle with radius `1.5` using the\nformula $A = \\pi r^2$. We use `pi` as an abbreviation for `3.14159`.\nMultiplication is expressed using `*.`, which is called an _infix operator_\nbecause it is written between its two operands.\n\nOCaml replies with the computed value (about `7.07`) and its type (again `float`).\n"
    },
    {
      "cell_type": "code",
      "metadata": {},
      "source": "let area r = pi *. r *. r",
      "outputs": [],
      "execution_count": 3
    },
    {
      "cell_type": "markdown",
      "metadata": {},
      "source": "\nTo work abstractly, we should provide the service \"compute the area of a\ncircle,\" so that we no longer need to remember the formula. This sort of\nencapsulated computation is called a _function_. The third line declares the\nfunction `area`. Given any floating point number `r`, it returns another\nfloating point number computed using the `area` formula; note that the function\nhas type `float -> float`.\n"
    },
    {
      "cell_type": "code",
      "metadata": {},
      "source": "area 2.0",
      "outputs": [],
      "execution_count": 4
    },
    {
      "cell_type": "markdown",
      "metadata": {},
      "source": "\nThe fourth line calls the function `area` supplying `2.0` as the argument. A\ncircle of radius `2` has an area of about `12.6`. Note that brackets around a\nfunction argument are not necessary.\n\nThe function uses `pi` to stand for `3.14159`. Unlike what you may have seen in\nother programming languages, `pi` cannot be \"assigned to\" or otherwise updated.\nIts meaning within `area` will persist even if we issue a new `let` declaration\nfor `pi` afterwards.\n"
    },
    {
      "cell_type": "code",
      "metadata": {},
      "source": "let rec npower x n =\n  if n = 0 then 1.0\n  else x *. npower x (n-1)",
      "outputs": [],
      "execution_count": 5
    },
    {
      "cell_type": "markdown",
      "metadata": {},
      "source": "\nThe function `npower` raises its real argument `x` to the power `n`, a\nnon-negative integer. The function is _recursive_: it calls itself. This concept\nshould be familiar from mathematics, since exponentiation is defined by the\nrules shown above. You may also have seen recursion in the product rule for\ndifferentiation: $(u · v)′ = u · v′ + u′ · v.$.\n\nIn finding the derivative of $u.v$, we recursively find the derivatives of $u$\nand $v$, combining them to obtain the desired result. The recursion is\nmeaningful because it terminates: we reduce the problem to two smaller\nproblems, and this cannot go on forever. The ML programmer uses recursion\nheavily.  For $n>=0$, the equation $x^(n+1) = x * x^n) yields an obvious\ncomputation:\n\n$x3 = x × x2 = x × x × x1 = x × x × x × x0 = x × x × x.$ (TODO)\n\nThe equation clearly holds even for negative $n$. However, the corresponding\ncomputation runs forever:\n\n$x−1 =x×x−2 =x×x×x−3 =···$ (TODO)\n\nNote that the function `npower` contains both an integer constant (0) and a\nfloating point constant (1.0). The decimal point makes all the difference. The\nML system will notice and ascribe different meaning to each type of constant.\n"
    },
    {
      "cell_type": "code",
      "metadata": {},
      "source": "let square x = x *. x;",
      "outputs": [],
      "execution_count": 6
    },
    {
      "cell_type": "markdown",
      "metadata": {},
      "source": "\nNow for a tiresome but necessary aside. In most languages, the types of\narguments and results must always be specified. ML is unusual that it normally\ninfers the types itself. However, sometimes ML could use a hint; function\n`square` above has a type constraint to say its result is a float.\n\nML can still infer the type even if you don't specify them, but in some cases\nit will use a more inefficient function than a specialised one.  Some languages\nhave just one type of number, converting automatically between different\nformats; this is slow and could lead to unexpected rounding errors.  Type\nconstraints are allowed almost anywhere. We can put one on any occurrence of x\nin the function. We can constrain the function’s result:\n"
    },
    {
      "cell_type": "code",
      "metadata": {},
      "source": "let square (x:float) = x *. x",
      "outputs": [],
      "execution_count": 7
    },
    {
      "cell_type": "code",
      "metadata": {},
      "source": "let square x : float = x *. x",
      "outputs": [],
      "execution_count": 8
    },
    {
      "cell_type": "markdown",
      "metadata": {},
      "source": "\nML treats the equality and comparison test specially. Expressions like\n"
    },
    {
      "cell_type": "markdown",
      "metadata": {},
      "source": "\nare fine provided `x` and `y` have the same type and equality testing is\npossible for that type. (We discuss equality further in a later lecture.)\nNote that `x <> y` is ML for `x  ̸= y`.\n"
    },
    {
      "cell_type": "code",
      "metadata": {},
      "source": "let toSeconds minutes seconds =\n  seconds +. (60.0 *. minutes)",
      "outputs": [],
      "execution_count": 9
    },
    {
      "cell_type": "code",
      "metadata": {},
      "source": "let fromSeconds seconds =\n  (seconds /. 60.0), (mod_float seconds 60.0)",
      "outputs": [],
      "execution_count": 10
    },
    {
      "cell_type": "markdown",
      "metadata": {},
      "source": "\nA boolean-valued function to test whether a number is even:\n"
    },
    {
      "cell_type": "code",
      "metadata": {},
      "source": "let even n =\nn mod 2 = 0",
      "outputs": [],
      "execution_count": 11
    },
    {
      "cell_type": "markdown",
      "metadata": {},
      "source": "\nraising to an integer power--fast version\n"
    },
    {
      "cell_type": "code",
      "metadata": {},
      "source": "let rec power x n : float =\n  if n = 1 then x\n  else if even n then      power (x *. x) (n / 2)\n                 else x *. power (x *. x) (n / 2)",
      "outputs": [],
      "execution_count": 12
    },
    {
      "cell_type": "markdown",
      "metadata": {},
      "source": "\nthe sum of the first n integers\n"
    },
    {
      "cell_type": "code",
      "metadata": {},
      "source": "let rec nsum n =\n  if n = 0 then 0\n           else n + nsum (n-1)",
      "outputs": [],
      "execution_count": 13
    },
    {
      "cell_type": "code",
      "metadata": {},
      "source": "let rec summing n total =\n  if n = 0 then total\n           else summing (n-1) (n + total)",
      "outputs": [],
      "execution_count": 14
    },
    {
      "cell_type": "markdown",
      "metadata": {},
      "source": "\nwith an exponential runtime\n"
    },
    {
      "cell_type": "code",
      "metadata": {},
      "source": "let rec stupidSum n =\n  if n = 0 then 0\n           else n + (stupidSum (n-1) + stupidSum (n-1)) / 2",
      "outputs": [],
      "execution_count": 15
    }
  ]
}
