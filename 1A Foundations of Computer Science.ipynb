{
 "cells": [
  {
   "cell_type": "markdown",
   "metadata": {},
   "source": [
    "# Foundations of Computer Science (OCaml version)\n",
    "\n",
    "\n",
    "\n",
    "This course has two aims. The first is to teach programming. The second is to\n",
    "present some fundamental principles of computer science, especially algorithm\n",
    "design. Most students will have some programming experience already, but there\n",
    "are few people whose programming cannot be improved through greater knowledge\n",
    "of basic principles. Please bear this point in mind if you have extensive\n",
    "experience and find parts of the course rather slow.\n",
    "\n",
    "The programming in this course is based on the language [OCaml](https://ocaml.org)\n",
    "and mostly concerns the functional programming style. Functional programs tend\n",
    "to be shorter and easier to understand than their counterparts in conventional\n",
    "languages such as C. In the space of a few weeks, we shall cover many\n",
    "fundamental data structures and learn basic methods for estimating efficiency.\n",
    "\n",
    "**this is a work-in-progress port of Lawrence C. Paulson's 1819 Cambridge\n",
    "course notes**\n"
   ]
  },
  {
   "cell_type": "markdown",
   "metadata": {},
   "source": [
    "## Lecture 1: Introduction to Programming\n",
    "\n",
    "\n"
   ]
  },
  {
   "cell_type": "markdown",
   "metadata": {},
   "source": [
    "### Basic Concepts in Computer Science\n",
    "\n",
    "\n",
    "\n",
    "- Computers: a child can use them; **nobody** can fully understand them!\n",
    "- We can master complexity through levels of abstraction.\n",
    "- Focus on 2 or 3 levels at most!\n",
    "\n",
    "**Recurring issues:**\n",
    "- what services to provide at each level\n",
    "- how to implement them using lower-level services\n",
    "- the interface: how the two levels should communicate\n",
    "\n",
    "A basic concept in computer science is that large systems can only be\n",
    "understood in levels, with each level further subdivided into functions or\n",
    "services of some sort. The interface to the higher level should supply the\n",
    "advertised services. Just as important, it should block access to the means by\n",
    "which those services are implemented. This _abstraction barrier_ allows one\n",
    "level to be changed without affecting levels above. For example, when a\n",
    "manufacturer designs a faster version of a processor, it is essential that\n",
    "existing programs continue to run on it. Any differences between the old and\n",
    "new processors should be invisible to the program.\n",
    "\n",
    "Modern processors have elaborate specifications, which still sometimes leave\n",
    "out important details. In the old days, you then had to consult the circuit\n",
    "diagrams.\n"
   ]
  },
  {
   "cell_type": "markdown",
   "metadata": {},
   "source": [
    "### Example 1: Dates\n",
    "\n",
    "\n",
    "\n",
    "- Abstract level: dates over a certain interval\n",
    "- Concrete level: typically 6 characters: `YYMMDD` (where each character is represented by 8 bits)\n",
    "- Date crises caused by __inadequate__ internal formats:\n",
    "  * Digital’s PDP-10: using 12-bit dates (good for at most 11 years)\n",
    "  * 2000 crisis: 48 bits could be good for lifetime of universe!\n",
    "\n",
    "Digital Equipment Corporation’s date crisis occurred in 1975.  The\n",
    "PDP-10 was a 36-bit mainframe computer. It represented dates using a 12-bit\n",
    "format designed for the tiny PDP-8. With 12 bits, one can distinguish\n",
    "$2^{12} = 4096$ days or 11 years.\n",
    "\n",
    "The most common industry format for dates uses six characters: two for the\n",
    "year, two for the month and two for the day. The most common \"solution\" to the\n",
    "year 2000 crisis is to add two further characters, thereby altering file sizes.\n",
    "Others have noticed that the existing six characters consist of 48 bits,\n",
    "already sufficient to represent all dates over the projected lifetime of the\n",
    "universe: $2^{48}$ = $2.8 * 1014$ days = $7.7 * 1011$ years!\n",
    "\n",
    "Mathematicians think in terms of unbounded ranges, but the representation we\n",
    "choose for the computer usually imposes hard limits. A good programming\n",
    "language like OCaml lets one easily change the representation used in the\n",
    "program.  But if files in the old representation exist all over the place,\n",
    "there will still be conversion problems. The need for compatibility with older\n",
    "systems causes problems across the computer industry.\n"
   ]
  },
  {
   "cell_type": "markdown",
   "metadata": {},
   "source": [
    "### Example II: Floating Point Numbers\n",
    "\n",
    "\n",
    "\n",
    "Computers have integers like `1066` and floats like $1.066 x 10^3$.\n",
    "A floating-point number is represented by two integers.\n",
    "The concept of _data type_ involves:\n",
    "* how a value is represented inside the computer\n",
    "* the suite of operations given to programmers\n",
    "* valid and invalid (or exceptional) results, such as “infinity”\n",
    "Computer arithmetic can yield _incorrect answers_!\n",
    "\n",
    "In science, numbers written with finite precision and a decimal exponent are\n",
    "said to be in _standard form_. The computational equivalent is the _floating\n",
    "point number_. These are familiar to anybody who has used a scientific\n",
    "calculator.  Internally, a float consists of two integers.\n",
    "\n",
    "Because of its finite precision, floating-point computations are potentially\n",
    "inaccurate. To see an example, use your nearest electronic calculator to\n",
    "compute $(2^{1/10000})10000$. I get $1.99999959$! With certain computations,\n",
    "the errors spiral out of control. Many programming languages fail to check\n",
    "whether even integer computations fall within the allowed range: you can add\n",
    "two positive integers and get a negative one!\n",
    "\n",
    "Most computers give us a choice of precisions. In 32-bit precision, integers\n",
    "typically range from $2^{31} − 1$ (namely $2,147,483,647$) to $−2^{31}$; reals\n",
    "are accurate to about six decimal places and can get as large as 1035 or so.\n",
    "For reals, 64-bit precision is often preferred. Early languages like Fortran\n",
    "required variables to be declared as `INTEGER`, `REAL` or `COMPLEX` and barred\n",
    "programmers from mixing numbers in a computation. Nowadays, programs handle\n",
    "many different kinds of data, including text and symbols. The concept of a\n",
    "_data type_ can ensure that different types of data are not combined in a\n",
    "senseless way.\n",
    "\n",
    "Inside the computer, all data are stored as bits. In most programming\n",
    "languages, the compiler uses types to generate correct machine code, and types\n",
    "are not stored during program execution. In this course, we focus almost\n",
    "entirely on programming in a high-level language: OCaml.\n"
   ]
  },
  {
   "cell_type": "markdown",
   "metadata": {},
   "source": [
    "### Goals of Programming\n",
    "\n",
    "\n",
    "\n",
    "- to describe a computation so that it can be done _mechanically_:\n",
    "  * Expressions compute values.\n",
    "  * Commands cause effects.\n",
    "- to do so efficiently and **correctly**, giving the right answers quickly\n",
    "- to allow easy modification as needs change\n",
    "  * Through an orderly _structure_ based on abstraction principles\n",
    "  * Such as modules or (Java) classes\n",
    "\n",
    "Programming _in-the-small_ concerns the writing of code to do simple, clearly\n",
    "defined tasks. Programs provide expressions for describing mathematical\n",
    "formulae and so forth. (This was the original contribution of FORTRAN, the\n",
    "FORmula TRANslator.) Commands describe how control should flow from one part of\n",
    "the program to the next.\n",
    "\n",
    "As we code layer upon layer, we eventually find ourselves programming\n",
    "_in the large_ : joining large modules to solve some messy task. Programming\n",
    "languages have used various mechanisms to allow one part of the program to\n",
    "provide interfaces to other parts. Modules encapsulate a body of code, allowing\n",
    "outside access only through a programmer-defined interface. _Abstract Data\n",
    "Types_ are a simpler version of this concept, which implement a single concept\n",
    "such as dates or floating-point numbers.\n",
    "\n",
    "_Object-oriented programming_ is the most complicated approach to modularity.\n",
    "_Classes_ define concepts, and they can be built upon other classes. Operations\n",
    "can be defined that work in appropriately specialized ways on a family of\n",
    "related classes. _Objects_ are instances of classes and hold the data that is\n",
    "being manipulated.\n",
    "\n",
    "This course does not cover OCaml's sophisticated module system, which can do\n",
    "many of the same things as classes. You will learn all about objects when you\n",
    "study Java.\n"
   ]
  },
  {
   "cell_type": "markdown",
   "metadata": {},
   "source": [
    "## Why Program in ML?\n",
    "\n",
    "\n",
    "\n",
    "* Why Program in ML?\n",
    "* It is interactive.\n",
    "* It has a flexible notion of _data type_.\n",
    "* It hides the underlying hardware: _no crashes_.\n",
    "* Programs can easily be understood mathematically.\n",
    "* It distinguishes naming something from _updating memory_.\n",
    "* It manages storage for us.\n",
    "\n",
    "Standard ML is the outcome of years of research into\n",
    "programming languages. It is unique, defined using a mathematical formalism (an\n",
    "operational semantics) that is both precise and comprehensible. Several\n",
    "supported compilers are available, and thanks to the formal definition, there\n",
    "are remarkably few incompatibilities among them. _(TODO edit)_\n",
    "\n",
    "Because of its connection to mathematics, ML programs can be designed and\n",
    "understood without thinking in detail about how the computer will run them.\n",
    "Although a program can abort, it cannot crash: it remains under the control of\n",
    "the OCaml system. It still achieves respectable efficiency and provides\n",
    "lower-level primitives for those who need them. Most other languages allow\n",
    "direct access to the underlying machine and even try to execute illegal\n",
    "operations, causing crashes.\n",
    "\n",
    "The only way to learn programming is by writing and running programs. This web\n",
    "notebook provides an interactive environment where you can modify the example\n",
    "fragments and see the results for yourself.  You should also consider\n",
    "installing OCaml on your own computer so that you try more advanced programs\n",
    "locally.\n"
   ]
  },
  {
   "cell_type": "markdown",
   "metadata": {},
   "source": [
    "### A first session with OCaml\n",
    "\n",
    "\n"
   ]
  },
  {
   "cell_type": "code",
   "execution_count": 1,
   "metadata": {},
   "outputs": [],
   "source": [
    "let pi = 3.14159265358979"
   ]
  },
  {
   "cell_type": "markdown",
   "metadata": {},
   "source": [
    "\n",
    "The first line of this simple session is a _value declaration_. It makes the\n",
    "name `pi` stand for the floating point number `3.14159`. (Such names are called\n",
    "_identifiers_.)  OCaml echoes the name (`pi`) and type (`float`) of the\n",
    "declared identifier.\n"
   ]
  },
  {
   "cell_type": "code",
   "execution_count": 2,
   "metadata": {},
   "outputs": [],
   "source": [
    "pi *. 1.5 *. 1.5"
   ]
  },
  {
   "cell_type": "markdown",
   "metadata": {},
   "source": [
    "\n",
    "The second line computes the area of the circle with radius `1.5` using the\n",
    "formula $A = \\pi r^2$. We use `pi` as an abbreviation for `3.14159`.\n",
    "Multiplication is expressed using `*.`, which is called an _infix operator_\n",
    "because it is written between its two operands.\n",
    "\n",
    "OCaml replies with the computed value (about `7.07`) and its type (again `float`).\n"
   ]
  },
  {
   "cell_type": "code",
   "execution_count": 3,
   "metadata": {},
   "outputs": [],
   "source": [
    "let area r = pi *. r *. r"
   ]
  },
  {
   "cell_type": "markdown",
   "metadata": {},
   "source": [
    "\n",
    "To work abstractly, we should provide the service \"compute the area of a\n",
    "circle,\" so that we no longer need to remember the formula. This sort of\n",
    "encapsulated computation is called a _function_. The third line declares the\n",
    "function `area`. Given any floating point number `r`, it returns another\n",
    "floating point number computed using the `area` formula; note that the function\n",
    "has type `float -> float`.\n"
   ]
  },
  {
   "cell_type": "code",
   "execution_count": 4,
   "metadata": {},
   "outputs": [],
   "source": [
    "area 2.0"
   ]
  },
  {
   "cell_type": "markdown",
   "metadata": {},
   "source": [
    "\n",
    "The fourth line calls the function `area` supplying `2.0` as the argument. A\n",
    "circle of radius `2` has an area of about `12.6`. Note that brackets around a\n",
    "function argument are not necessary.\n",
    "\n",
    "The function uses `pi` to stand for `3.14159`. Unlike what you may have seen in\n",
    "other programming languages, `pi` cannot be \"assigned to\" or otherwise updated.\n",
    "Its meaning within `area` will persist even if we issue a new `let` declaration\n",
    "for `pi` afterwards.\n"
   ]
  },
  {
   "cell_type": "code",
   "execution_count": 5,
   "metadata": {},
   "outputs": [],
   "source": [
    "let rec npower x n =\n",
    "  if n = 0 then 1.0\n",
    "  else x *. npower x (n-1)"
   ]
  },
  {
   "cell_type": "markdown",
   "metadata": {},
   "source": [
    "\n",
    "The function `npower` raises its real argument `x` to the power `n`, a\n",
    "non-negative integer. The function is _recursive_: it calls itself. This concept\n",
    "should be familiar from mathematics, since exponentiation is defined by the\n",
    "rules shown above. You may also have seen recursion in the product rule for\n",
    "differentiation: $(u · v)′ = u · v′ + u′ · v.$.\n",
    "\n",
    "In finding the derivative of $u.v$, we recursively find the derivatives of $u$\n",
    "and $v$, combining them to obtain the desired result. The recursion is\n",
    "meaningful because it terminates: we reduce the problem to two smaller\n",
    "problems, and this cannot go on forever. The ML programmer uses recursion\n",
    "heavily.  For $n>=0$, the equation $x^{n+1} = x * x^n$ yields an obvious\n",
    "computation:\n",
    "\n",
    "$$ x^3 = x\\times x^2 = x\\times x\\times x^1 = x\\times x\\times x\\times x^0 = x\\times x\\times x $$\n",
    "\n",
    "The equation clearly holds even for negative $n$. However, the corresponding\n",
    "computation runs forever:\n",
    "\n",
    "$$ x^{-1} = x\\times x^{-2} = x\\times x\\times x^{-3}=\\cdots $$\n",
    "\n",
    "Note that the function `npower` contains both an integer constant (0) and a\n",
    "floating point constant (1.0). The decimal point makes all the difference. The\n",
    "ML system will notice and ascribe different meaning to each type of constant.\n"
   ]
  },
  {
   "cell_type": "code",
   "execution_count": 6,
   "metadata": {},
   "outputs": [],
   "source": [
    "let square x = x *. x;"
   ]
  },
  {
   "cell_type": "markdown",
   "metadata": {},
   "source": [
    "\n",
    "Now for a tiresome but necessary aside. In most languages, the types of\n",
    "arguments and results must always be specified. ML is unusual that it normally\n",
    "infers the types itself. However, sometimes ML could use a hint; function\n",
    "`square` above has a type constraint to say its result is a float.\n",
    "\n",
    "ML can still infer the type even if you don't specify them, but in some cases\n",
    "it will use a more inefficient function than a specialised one.  Some languages\n",
    "have just one type of number, converting automatically between different\n",
    "formats; this is slow and could lead to unexpected rounding errors.  Type\n",
    "constraints are allowed almost anywhere. We can put one on any occurrence of x\n",
    "in the function. We can constrain the function’s result:\n"
   ]
  },
  {
   "cell_type": "code",
   "execution_count": 7,
   "metadata": {},
   "outputs": [],
   "source": [
    "let square (x:float) = x *. x"
   ]
  },
  {
   "cell_type": "code",
   "execution_count": 8,
   "metadata": {},
   "outputs": [],
   "source": [
    "let square x : float = x *. x"
   ]
  },
  {
   "cell_type": "markdown",
   "metadata": {},
   "source": [
    "\n",
    "ML treats the equality and comparison test specially. Expressions like `if x = y then ...`\n",
    "are fine provided `x` and `y` have the same type and equality testing is\n",
    "possible for that type. (We discuss equality further in a later lecture.)\n",
    "Note that `x <> y` is ML for `x  ̸= y`.\n",
    "\n",
    "A characteristic feature of the computer is its ability to test for conditions\n",
    "and act accordingly.  In the early days, a program might jump to a given\n",
    "address depending on the sign of some number.  Later, John McCarthy defined\n",
    "the _conditional expression_ to satisfy:\n",
    "\n",
    "$$if true then x else y = x$$\n",
    "$$if false then x else y = y$$\n",
    "\n",
    "ML evaluates the expression $if B then E_1 else E_2$ by first evaluating $B$.\n",
    "If the result is `true` then ML evaluates $E_1$ and otherwise $E_2$.  Only one\n",
    "of the two expressions $E_1$ and $E_2$ is evaluated!  If both were evaluated,\n",
    "then recursive functions like `npower` above would run forever.\n",
    "\n",
    "The _if-expression_ is governed by an expression of type `bool`, whose two\n",
    "values are `true` and `false`.  In modern programming languages, tests are not\n",
    "built into \"conditional branch\" constructs but have an independent status.\n",
    "Tests, or _Boolean expressions_, can be expressed using relational operators\n",
    "such as `<` and `=`. They can be combined using the Boolean operators for\n",
    "negation (`not`), `and` (written as `&&`) and `or` (written as `||`).  New\n",
    "properties can be declared as functions: here, to test whether an integer is\n",
    "even.\n",
    "\n",
    "For large `n`, computing powers using $x^{n+1} = x\\times x^n$ is too slow to\n",
    "be practical.  The equations above are much faster. Example:\n",
    "\n",
    "$$ 2^{12} = 4^6 = 16^3 = 16\\times 256^1 = 16\\times 256 = 4096. $$\n",
    "\n",
    "Instead of `n` multiplications, we need at most $2 lg n$ multiplications,\n",
    "where $lg n$ is the logarithm of $n$ to the base $2$.\n",
    "\n",
    "We use the function `even`, declared previously, to test whether the\n",
    "exponent is even.  Integer division (`div`) truncates its result to an\n",
    "integer: dividing $2n+1$ by 2 yields $n$.\n",
    "\n",
    "A recurrence is a useful computation rule only if it is bound to terminate.\n",
    "If $n>0$ then $n$ is smaller than both $2n$ and $2n+1$.  After enough\n",
    "recursive calls, the exponent will be reduced to $1$.  The equations also hold\n",
    "if $n\\leq0$, but the corresponding computation runs forever.\n",
    "\n",
    "Our reasoning assumes arithmetic to be _exact_. Fortunately, the calculation is\n",
    "well-behaved using floating-point.\n",
    "\n",
    "TODO edit for OCaml. The negation of `x` is written `~x` rather than `-x`\n",
    "please note.  Most languages use the same symbol for minus and subtraction,\n",
    "but ML regards all operators, whether infix or not, as functions.  Subtraction\n",
    "takes a pair of numbers, but minus takes a single number; they are distinct\n",
    "functions and must have distinct names.\n",
    "\n",
    "TODO edit for OCaml. Computer numbers have a finite range, which if exceeded gives rise to an\n",
    "Overflow error.  Some ML systems can represent integers of arbitrary size.\n",
    "\n",
    "If integers and reals must be combined in a calculation, ML provides functions\n",
    "to convert between them:\n"
   ]
  },
  {
   "cell_type": "code",
   "execution_count": 9,
   "metadata": {},
   "outputs": [],
   "source": [
    "int_of_float ;;"
   ]
  },
  {
   "cell_type": "code",
   "execution_count": 10,
   "metadata": {},
   "outputs": [],
   "source": [
    "int_of_float 3.14159 ;;"
   ]
  },
  {
   "cell_type": "code",
   "execution_count": 11,
   "metadata": {},
   "outputs": [],
   "source": [
    "float_of_int ;;"
   ]
  },
  {
   "cell_type": "code",
   "execution_count": 12,
   "metadata": {},
   "outputs": [],
   "source": [
    "float_of_int 3 ;;"
   ]
  },
  {
   "cell_type": "markdown",
   "metadata": {},
   "source": [
    "\n",
    "ML's libraries are organized using _modules_, so we many use compound\n",
    "identifiers such as `Float.of_int` to refer to library functions.  In OCaml,\n",
    "library units can also be loaded by commands such as `#require \"num\"`.  There\n",
    "are many thousands of library functions available in the OCaml ecosystem,\n",
    "including text-processing and operating systems functions in addition to the\n",
    "usual numerical ones.\n",
    "\n",
    "TODO summarise OCaml syntax.\n"
   ]
  },
  {
   "cell_type": "markdown",
   "metadata": {},
   "source": [
    "## Lecture 2: Recursion and Efficiency\n",
    "\n",
    "\n"
   ]
  },
  {
   "cell_type": "markdown",
   "metadata": {},
   "source": [
    "### Expression Evaluation\n",
    "\n",
    "\n",
    "\n",
    "Expression evaluation concerns expressions and the values they return. This\n",
    "view of computation may seem to be too narrow. It is certainly far removed from\n",
    "computer hardware, but that can be seen as an advantage. For the traditional\n",
    "concept of computing solutions to problems, expression evaluation is entirely\n",
    "adequate.\n",
    "\n",
    "Starting with $E_0$, the expression $E_i$ is reduced to $E_{i+1}$ until this\n",
    "process concludes with a value~$v$.  A _value_ is something like a number\n",
    "that cannot be further reduced.\n",
    "\n",
    "We write $E E'$ to say that $E$ is _reduced_ to $E'$.\n",
    "Mathematically, they are equal: $E=E'$, but the computation goes from $E$ to\n",
    "$E'$ and never the other way around.\n",
    "\n",
    "Computers also interact with the outside world.  For a start, they need some\n",
    "means of accepting problems and delivering solutions.  Many computer systems\n",
    "monitor and control industrial processes.  This role of computers is familiar\n",
    "now, but was never envisaged in the early days. Computer pioneers focused on\n",
    "mathematical calculations.  Modelling interaction and control requires a notion\n",
    "of _states_ that can be observed and changed.  Then we can consider\n",
    "updating the state by assigning to variables or performing input/output,\n",
    "finally arriving at conventional programs as coded in C, for instance.\n",
    "\n",
    "For now, we remain at the level of expressions, which is usually termed\n",
    "_functional programming_.\n",
    "\n"
   ]
  },
  {
   "cell_type": "markdown",
   "metadata": {},
   "source": [
    "### Summing the first n integers\n",
    "\n",
    "\n"
   ]
  },
  {
   "cell_type": "code",
   "execution_count": 13,
   "metadata": {},
   "outputs": [],
   "source": [
    "let rec nsum n =\n",
    "  if n = 0 then 0\n",
    "           else n + nsum (n-1)"
   ]
  },
  {
   "cell_type": "markdown",
   "metadata": {},
   "source": [
    "\n",
    "The function call `nsum n` computes the sum `1+...+nz` rather naively, hence the\n",
    "initial `n` in its name.  The nesting of parentheses is not just an artifact of\n",
    "our notation; it indicates a real problem.  The function gathers up a\n",
    "collection of numbers, but none of the additions can be performed until `nsum\n",
    "0` is reached.  Meanwhile, the computer must store the numbers in an internal\n",
    "data structure, typically the _stack_.  For large `n`, say `nsum 10000`, the\n",
    "computation might fail due to stack overflow.\n",
    "\n",
    "We all know that the additions can be performed as we go along.  How do we\n",
    "make the computer do that?\n"
   ]
  },
  {
   "cell_type": "markdown",
   "metadata": {},
   "source": [
    "### Iteratively summing the first `n` integers\n",
    "\n",
    "\n"
   ]
  },
  {
   "cell_type": "code",
   "execution_count": 14,
   "metadata": {},
   "outputs": [],
   "source": [
    "let rec summing n total =\n",
    "  if n = 0 then total\n",
    "           else summing (n-1) (n + total)"
   ]
  },
  {
   "cell_type": "markdown",
   "metadata": {},
   "source": [
    "\n",
    "Function `summing` takes an additional argument: a running total.  If\n",
    "`n` is zero then it returns the running total; otherwise, `summing`\n",
    "adds to it and continues.  The recursive calls do not nest; the additions are\n",
    "done immediately.\n",
    "\n",
    "A recursive function whose computation does not nest is called\n",
    "_iterative_ or _tail-recursive_. Many functions can be made iterative by\n",
    "introducing an argument analogous to _total_, which is often called an\n",
    "_accumulator_.\n",
    "\n",
    "The gain in efficiency is sometimes worthwhile and sometimes not.  The function\n",
    "`power` is not iterative because nesting occurs whenever the exponent is odd.\n",
    "Adding a third argument makes it iterative, but the change complicates the\n",
    "function and the gain in efficiency is minute; for 32-bit integers, the maximum\n",
    "possible nesting is 30 for the exponent $2^{31}-1$.\n",
    "\n",
    "\n",
    "TODO slide\n",
    "\n",
    "A [classic\n",
    "book](https://en.wikipedia.org/wiki/Structure_and_Interpretation_of_Computer_Programs)\n",
    "by Abelson and Sussman used _iterative_ to mean _tail-recursive_. It describes\n",
    "the Lisp dialect known as Scheme. Iterative functions produce computations\n",
    "resembling those that can be done using while-loops in conventional languages.\n",
    "\n",
    "Many algorithms can be expressed naturally using recursion, but only awkwardly\n",
    "using iteration. There is a story that Dijkstra sneaked recursion into Algol-60\n",
    "by inserting the words \"any other occurrence of the procedure name denotes\n",
    "execution of the procedure\". By not using the word \"recursion\", he managed to\n",
    "slip this amendment past sceptical colleagues.\n",
    "\n",
    "Obsession with tail recursion leads to a coding style in which functions\n",
    "have many more arguments than necessary.  Write straightforward code first,\n",
    "avoiding only gross inefficiency.  If the program turns out to be too slow,\n",
    "tools are available for pinpointing the cause.  Always remember KISS (Keep\n",
    "It Simple, Stupid).\n",
    "\n",
    "I hope you have all noticed by now that the summation can be done even more\n",
    "efficiently using the arithmetic progression formula:\n",
    "\n",
    "$$ 1+\\cdots+n = n(n+1)/2 $$\n"
   ]
  },
  {
   "cell_type": "markdown",
   "metadata": {},
   "source": [
    "### Stupidly Summing the First `n` Integers\n",
    "\n",
    "\n"
   ]
  },
  {
   "cell_type": "code",
   "execution_count": 15,
   "metadata": {},
   "outputs": [],
   "source": [
    "let rec stupidSum n =\n",
    "  if n = 0 then 0\n",
    "           else n + (stupidSum (n-1) + stupidSum (n-1)) / 2"
   ]
  },
  {
   "cell_type": "markdown",
   "metadata": {},
   "source": [
    "\n",
    "The function calls itself $2^n$ times!  Bigger inputs mean higher costs---but\n",
    "what's the _growth rate_?\n",
    "\n",
    "Now let us consider how to estimate various costs associated with a program.\n",
    "_Asymptotic complexity_ refers to how costs---usually time or space---grow with\n",
    "increasing inputs. Space complexity can never exceed time complexity, for it\n",
    "takes time to do anything with the space.  Time complexity often greatly\n",
    "exceeds space complexity.\n",
    "\n",
    "The function `stupidSum` calls itself twice in each recursive step.  This\n",
    "function is contrived, but many mathematical formulas refer to a particular\n",
    "quantity more than once.  In OCaml, we can create a local binding to a computed\n",
    "value using the _local declaration_ syntax:\n",
    "\n",
    "TODO make power a real function\n"
   ]
  },
  {
   "cell_type": "raw",
   "metadata": {},
   "source": [
    "# let y = power x 20 in\n",
    "  (f y) + (g x y)"
   ]
  },
  {
   "cell_type": "markdown",
   "metadata": {},
   "source": [
    "\n",
    "Fast hardware does not make good algorithms unnecessary.  On the contrary,\n",
    "faster hardware magnifies the superiority of better algorithms.  Typically, we\n",
    "want to handle the largest inputs possible.  If we double our processing power,\n",
    "what do we gain?  How much can we increase $n$, the input to our function?\n",
    "With `stupidSum`, we can only go from $n$ to $n+1$.  We are limited to this\n",
    "modest increase because the function's running time is proportional to $2^n$.\n",
    "With the function `npower` defined in the previous lecture, we can go from $n$\n",
    "to $2n$: we can handle problems twice as big.  With `power` we can do much\n",
    "better still, going from $n$ to $n^2$.\n",
    "\n",
    "TODO table\n",
    "\n",
    "This table (excerpted from a 40-year-old book! TODO cite aho74) illustrates the\n",
    "effect of various time complexities.  The left-hand column indicates how many\n",
    "milliseconds are required to process an input of size $n$.  The other entries\n",
    "show the maximum size of $n$ that can be processed in the given time (one\n",
    "second, minute or hour).\n",
    "\n",
    "The table illustrates how large an input can be processed as a function\n",
    "of time.  As we increase the computer time per input from one second to one\n",
    "minute and then to one hour, the size of the input increases accordingly.\n",
    "\n",
    "The top two rows (complexities $n$ and $n \\lg n$) increase rapidly: for $n$, by\n",
    "a factor of 60.  The bottom two start out close together, but $n^3$ (which\n",
    "grows by a factor of 3.9) pulls well away from $2^n$ (whose growth is only\n",
    "additive).  If an algorithm's complexity is exponential then it can never\n",
    "handle large inputs, even if it is given huge resources.  On the other hand,\n",
    "suppose the complexity has the form $n^c$, where $c$ is a constant.  (We say\n",
    "the complexity is _polynomial_.)  Doubling the argument then increases the\n",
    "cost by a constant factor.  That is much better, though if $c>3$ the algorithm\n",
    "may not be considered practical.\n",
    "\n",
    "The cost of a program is usually a complicated formula.  Often we should\n",
    "consider only the most significant term.  If the cost is $n^2 + 99n + 900$\n",
    "for an input of size $n$, then the $n^2$ term will eventually dominate,\n",
    "even though $99n$ is bigger for $n<99$.\n",
    "The constant term $900$ may look big, but it is soon dominated by $n^2$.\n",
    "\n",
    "Constant factors in costs can be ignored unless they are large.  For one thing,\n",
    "they seldom make a difference: $100n^2$ will be better than $n^3$ in the long\n",
    "run: or _asymptotically_ to use the jargon.  Moreover, constant factors are\n",
    "seldom stable.  They depend upon details such as which hardware, operating\n",
    "system or programming language is being used.  By ignoring constant factors, we\n",
    "can make comparisons between algorithms that remain valid in a broad range of\n",
    "circumstances.\n",
    "\n",
    "The \"Big O\" notation is commonly used to describe efficiency---to be precise,\n",
    "_asymptotic complexity_.  It concerns the limit of a function as its\n",
    "argument tends to infinity.  It is an abstraction that meets the informal\n",
    "criteria that we have just discussed.\n",
    "In the definition, _sufficiently large_ means there is some constant $n_0$\n",
    "such that $|f(n)|\\leq c|g(n)|$ for all $n$ greater than $n_0$.  The\n",
    "role of $n_0$ is to ignore finitely many exceptions to the bound, such as the\n",
    "cases when $99n$ exceeds~$n^2$.\n",
    "\n",
    "TODO onotation slide\n",
    "\n",
    "$O$ notation lets us reason about the costs of algorithms easily.\n",
    "- Constant factors such as the $2$ in $O(2g(n))$ drop out: we can use $O(g(n))$ with twice the value of~$c$ in the definition.\n",
    "- Because constant factors drop out, the base of logarithms is irrelevant.\n",
    "- Insignificant terms drop out.  To see that $O(n^2+50n+36)$ is the same as $O(n^2)$, consider that $n^2+50n+36/n^2$ converges to 1 for increasing $n$.  % In fact, $n^2+50n+36 \\le 2n^2$ for $n\\ge 51$, so can double the constant factor\n",
    "\n",
    "If $c$ and $d$ are constants (that is, they are independent of $n$) with $0 < c < d$ then\n",
    "- $O(n^c)$ is contained in $O(n^d)$\n",
    "- $O(c^n)$ is contained in $O(d^n)$\n",
    "- $O(\\log n)$ is contained $in O(n^c)$\n",
    "\n",
    "To say that $O(c^n)$ _is contained in_ $O(d^n)$ means that the former gives\n",
    "a tighter bound than the latter.  For example, if $f(n)=O(2^n)$ then\n",
    "$f(n)=O(3^n)$ trivially, but the converse does not hold.\n"
   ]
  },
  {
   "cell_type": "markdown",
   "metadata": {},
   "source": [
    "### Common Complexity Classes\n",
    "\n",
    "\n",
    "\n",
    "- $O(1)$ is _constant_\n",
    "- $O(\\log n)$ is _logarithmic_\n",
    "- $O(n)$ is _linear_\n",
    "- $O(n\\log n)$ is _quasi-linear_\n",
    "- $O(n^2)$ is _quadratic_\n",
    "- $O(n^3)$ is _cubic_\n",
    "- $O(a^n)$ is _exponential_ (for fixed $a$)\n",
    "\n",
    "Logarithms grow very slowly, so $O(\\log n)$ complexity is excellent.  Because\n",
    "$O$ notation ignores constant factors, the base of the logarithm is\n",
    "irrelevant!\n",
    "\n",
    "Under linear we might mention $O(n\\log n)$, which occasionally is called\n",
    "_quasilinear_ and which scales up well for large $n$.\n",
    "\n",
    "An example of quadratic complexity is matrix addition: forming the sum of two\n",
    "$n\\times n$ matrices obviously takes $n^2$ additions.  Matrix\n",
    "multiplication is of cubic complexity, which limits the size of matrices that\n",
    "we can multiply in reasonable time.  An $O(n^{2.81})$ algorithm exists, but it\n",
    "is too complicated to be of much use, even though it is theoretically better.\n",
    "\n",
    "An exponential growth rate such as $2^n$ restricts us to small values of~$n$.\n",
    "Already with $n=20$ the cost exceeds one million.  However, the worst case\n",
    "might not arise in normal practice.  OCaml type-checking is exponential in the\n",
    "worst case, but not for ordinary programs.\n",
    "\n",
    "### Sample costs in O notation\n",
    "\n",
    "| Function     | Time | Space |\n",
    "| ------------ | ---- | ----- |\n",
    "|  npower, nsum  | $O(n)$ | $O(n)$ |\n",
    "|  summing       | $O(n)$ | $O(1)$ |\n",
    "| $n(n+1)/2$ | $O(1)$ | $O(1)$ |\n",
    "|  power  | $O(\\log n)$ | $O(\\log n)$ |\n",
    "|  stupidSum  | $O(2^n)$ | $O(n)$ |\n",
    "\n",
    "Recall that `npower` computes $x^n$\n",
    "by repeated multiplication while `nsum` naively computes the sum\n",
    "$1+\\cdots+n$.  Each obviously performs $O(n)$ arithmetic operations.  Because\n",
    "they are not tail recursive, their use of space is also $O(n)$.  The function\n",
    "`summing` is a version of `nsum` with an accumulating argument;\n",
    "its iterative behaviour lets it work in constant space.  $O$ notation spares\n",
    "us from having to specify the units used to measure space.\n",
    "\n",
    "Even ignoring constant factors, the units chosen can influence the result.\n",
    "Multiplication may be regarded as a single unit of cost.  However, the cost of\n",
    "multiplying two $n$-digit numbers for large $n$ is itself an important\n",
    "question, especially now that public-key cryptography uses numbers hundreds of\n",
    "digits long.\n",
    "\n",
    "Few things can _really_ be done in constant time or stored in constant\n",
    "space.  Merely to store the number $n$ requires $O(\\log n)$ bits.  If a\n",
    "program cost is $O(1)$, then we have probably assumed that certain operations\n",
    "it performs are also $O(1)$---typically because we expect never to exceed the\n",
    "capacity of the standard hardware arithmetic.\n",
    "\n",
    "With `power`, the precise number of operations depends upon $n$ in a\n",
    "complicated way, depending on how many odd numbers arise, so it is convenient\n",
    "that we can just write $O(\\log n)$.  An accumulating argument could reduce its\n",
    "space cost to $O(1)$.\n",
    "\n",
    "### Some Simple Recurrence Relations\n",
    "\n",
    "\n",
    "Consider $T(n)$ has a cost we want to bound using $O$ notation.\n",
    "A typical _base case_ is $T(1)=1$.  Some _recurrences_ are:\n",
    "\n",
    "| Equation            | Complexity   |\n",
    "| ------------------- | ------------ |\n",
    "| $T(n+1) = T(n)+1$  | $O(n)$       |\n",
    "| $T(n+1) = T(n)+n$  | $O(n^2)$     |\n",
    "| $T(n) = T(n/2)+1$  | $O(\\log n)$  |\n",
    "| $T(n) = 2T(n/2)+n$ | $O(n\\log n)$ |\n",
    "\n",
    "To analyse a function, inspect its OCaml declaration.  Recurrence equations for\n",
    "the cost function $T(n)$ can usually be read off.  Since we ignore constant\n",
    "factors, we can give the base case a cost of one unit.  Constant work done in\n",
    "the recursive step can also be given unit cost; since we only need an upper\n",
    "bound, this unit represents the larger of the two actual costs.  We could use\n",
    "other constants if it simplifies the algebra.\n",
    "\n",
    "For example, recall our function `nsum`:\n"
   ]
  },
  {
   "cell_type": "code",
   "execution_count": 16,
   "metadata": {},
   "outputs": [],
   "source": [
    "let rec nsum n =\n",
    "  if n = 0 then \n",
    "    0\n",
    "  else\n",
    "    n + nsum (n-1)"
   ]
  },
  {
   "cell_type": "markdown",
   "metadata": {},
   "source": [
    "\n",
    "Given $n+1$, it performs a constant amount of work (an addition and\n",
    "subtraction) and calls itself recursively with argument $n$.  We get the\n",
    "recurrence equations $T(0)=1$ and $T(n+1) = T(n)+1$.  The closed form is\n",
    "clearly $T(n)=n+1$, as we can easily verify by substitution.  The cost is\n",
    "_linear_.\n",
    "\n",
    "This function, given $n+1$, calls `nsum`, performing $O(n)$ work.\n",
    "Again ignoring constant factors, we can say that this call takes exactly $n$\n",
    "units.\n"
   ]
  },
  {
   "cell_type": "code",
   "execution_count": 17,
   "metadata": {},
   "outputs": [],
   "source": [
    "let rec nsumsum n =\n",
    "  if n = 0 then\n",
    "    0\n",
    "  else\n",
    "    nsum n + nsumsum (n-1)"
   ]
  },
  {
   "cell_type": "markdown",
   "metadata": {},
   "source": [
    "\n",
    "We get the recurrence equations $T(0)=1$ and $T(n+1) = T(n)+n$.  It is easy to\n",
    "see that $T(n)=(n-1)+\\cdots+1=n(n-1)/2=O(n^2)$.  The cost is\n",
    "_quadratic_.\n",
    "\n",
    "The function `power` divides its input $n$ into two, with\n",
    "the recurrence equation $T(n) = T(n/2)+1$.  Clearly $T(2^n)=n+1$, so\n",
    "$T(n)=O(\\log n)$.\n"
   ]
  },
  {
   "cell_type": "markdown",
   "metadata": {},
   "source": [
    "## Lecture 3: Lists\n",
    "\n",
    "\n"
   ]
  },
  {
   "cell_type": "code",
   "execution_count": 18,
   "metadata": {},
   "outputs": [],
   "source": [
    "let x = [3; 5; 9] ;;"
   ]
  },
  {
   "cell_type": "code",
   "execution_count": 19,
   "metadata": {},
   "outputs": [],
   "source": [
    "let y = [ (1,\"one\"); (2,\"two\") ] ;;"
   ]
  },
  {
   "cell_type": "markdown",
   "metadata": {},
   "source": [
    "\n",
    "A _list_ is an ordered series of elements; repetitions are significant.\n",
    "So `[3;5;9]` differs from `[5;3;9]` and from `[3;3;5;9]`.  Elements in the\n",
    "list are separated with `;` when constructed, as opposed to the `,` syntax\n",
    "used for fixed-length tuples.\n",
    "\n",
    "All elements of a list must have the same type.  Above we see a list of\n",
    "integers and a list of `(integer, string)` pairs.  One can also have lists of\n",
    "lists, such as `[[3]; []; [5,6]]`, which has type `int list list`.\n",
    "\n",
    "In the general case, if $x_1$, \\ldots, $x_n$ all have the same type (say\n",
    "$\\tau$) then the list $[x_1,\\ldots,x_n]$ has type $(\\tau)\\texttt{list}$.\n",
    "\n",
    "Lists are the simplest data structure that can be used to process collections\n",
    "of items.  Conventional languages use _arrays_, whose elements are\n",
    "accessed using subscripting: for example, $A[i]$ yields the $i$th element of\n",
    "the array~$A$.  Subscripting errors are a known cause of programmer grief,\n",
    "however, so arrays should be replaced by higher-level data structures whenever\n",
    "possible.\n"
   ]
  },
  {
   "cell_type": "code",
   "execution_count": 20,
   "metadata": {},
   "outputs": [],
   "source": [
    "x @ [2; 10] ;;"
   ]
  },
  {
   "cell_type": "code",
   "execution_count": 21,
   "metadata": {},
   "outputs": [],
   "source": [
    "List.rev [ (1,\"one\"); (2,\"two\") ] ;;"
   ]
  },
  {
   "cell_type": "markdown",
   "metadata": {},
   "source": [
    "\n",
    "The infix operator `@` (also called `List.append`) concatenates two lists.\n",
    "Also built-in is `List.rev`, which reverses a list.  These are demonstrated\n",
    "in the session above.\n"
   ]
  },
  {
   "cell_type": "markdown",
   "metadata": {},
   "source": [
    "### The List Primitives\n",
    "\n",
    "\n",
    "\n",
    "There are two kinds of lists:\n",
    "- `[]` represents the empty list\n",
    "- `x :: l` is the list with head $x$ and tail $l$\n"
   ]
  },
  {
   "cell_type": "code",
   "execution_count": 22,
   "metadata": {},
   "outputs": [],
   "source": [
    "let nil = [] ;;"
   ]
  },
  {
   "cell_type": "code",
   "execution_count": 23,
   "metadata": {},
   "outputs": [],
   "source": [
    "1 :: nil ;;"
   ]
  },
  {
   "cell_type": "code",
   "execution_count": 24,
   "metadata": {},
   "outputs": [],
   "source": [
    "1 :: 2 :: nil ;;"
   ]
  },
  {
   "cell_type": "markdown",
   "metadata": {},
   "source": [
    "\n",
    "The operator `::` (also called `List.cons` for \"construct\"), puts a new element on\n",
    "to the head of an existing list.  While we should not be too preoccupied with\n",
    "implementation details, it is essential to know that `::` is an $O(1)$\n",
    "operation.  It uses constant time and space, regardless of the length of the\n",
    "resulting list.  Lists are represented internally with a linked structure;\n",
    "adding a new element to a list merely hooks the new element to the front of\n",
    "the existing structure.  Moreover, that structure continues to denote the same\n",
    "list as it did before; to see the new list, one must look at the new `::` node\n",
    "(or _cons cell_) just created.\n",
    "\n",
    "\n",
    "Here we see the element~1 being consed to the front of the list `[3;5;9]`:\n",
    "\n",
    "$$\n",
    "\\let\\down=\\downarrow\n",
    "\\begin{array}{*{10}{c@{\\,}}c}\n",
    ":: & \\to & \\cdots & :: & \\to &  :: & \\to &  :: & \\to & nil \\\\\n",
    "\\down &  &        & \\down &  & \\down &  & \\down  \\\\\n",
    "1     &  &        & 3     &  & 5     &  & 9\n",
    "\\end{array}\n",
    "$$\n",
    "\n",
    "Given a list, taking its first element (its _head_) or its list of\n",
    "remaining elements (its _tail_) also takes constant time.  Each\n",
    "operation just follows a link.  In the diagram above, the first down arrow\n",
    "leads to the head and the leftmost right arrow leads to the tail.  Once we\n",
    "have the tail, its head is the second element of the original list, etc.\n",
    "\n",
    "The tail is _not_ the last element; it is the _list_ of all elements\n",
    "other than the head!\n"
   ]
  },
  {
   "cell_type": "markdown",
   "metadata": {},
   "source": [
    "### Getting at the Head and Tail\n",
    "\n",
    "\n"
   ]
  },
  {
   "cell_type": "code",
   "execution_count": 25,
   "metadata": {},
   "outputs": [],
   "source": [
    "let null = function\n",
    "  | [] -> true\n",
    "  | x :: l -> false ;;"
   ]
  },
  {
   "cell_type": "code",
   "execution_count": 26,
   "metadata": {},
   "outputs": [],
   "source": [
    "null [] ;;"
   ]
  },
  {
   "cell_type": "code",
   "execution_count": 27,
   "metadata": {},
   "outputs": [],
   "source": [
    "null [1;2;3] ;;"
   ]
  },
  {
   "cell_type": "code",
   "execution_count": 28,
   "metadata": {},
   "outputs": [],
   "source": [
    "let hd (x::l) = x ;;"
   ]
  },
  {
   "cell_type": "code",
   "execution_count": 29,
   "metadata": {},
   "outputs": [],
   "source": [
    "hd [1;2;3] ;;"
   ]
  },
  {
   "cell_type": "code",
   "execution_count": 30,
   "metadata": {},
   "outputs": [],
   "source": [
    "let tl (x::l) = l ;;"
   ]
  },
  {
   "cell_type": "code",
   "execution_count": 31,
   "metadata": {},
   "outputs": [],
   "source": [
    "tl [7;6;5] ;;"
   ]
  },
  {
   "cell_type": "markdown",
   "metadata": {},
   "source": [
    "\n",
    "The empty list has neither head nor tail.  Applying `List.hd` `List.tl` to `[]`\n",
    "is an error---strictly speaking, an _exception_.  The function `null` can\n",
    "be used to check for the empty list beforehand.  Taking a list apart using\n",
    "combinations of `hd` and `tl` is hard to get right.  Fortunately, it is seldom\n",
    "necessary because of _pattern-matching_.\n",
    "\n",
    "The declaration of `null`} above has two clauses: one for the empty list (for\n",
    "which it returns `true`) and one for non-empty lists (for which it returns\n",
    "`false`).\n",
    "\n",
    "The declaration of `null` above has two clauses: one for the empty list\n",
    "(for which it returns `true`) and one for non-empty lists (for which it\n",
    "returns `false`).\n",
    "\n",
    "The declaration of `hd` above has only one clause, for non-empty lists.  They\n",
    "have the form `x::l` and the function returns `x`, which is the head.  OCaml\n",
    "prints a warning to tell us that calling the function could raise an exception\n",
    "due to all possible inputs not being handles, including a counter-example (in\n",
    "this case, the empty list `[]`). The declaration of `tl` is similar to `hd`.\n",
    "\n",
    "These three primitive functions are _polymorphic_ and allow flexibility in the\n",
    "types of their arguments and results. Note their types!\n"
   ]
  },
  {
   "cell_type": "code",
   "execution_count": 32,
   "metadata": {},
   "outputs": [],
   "source": [
    "null ;;"
   ]
  },
  {
   "cell_type": "code",
   "execution_count": 33,
   "metadata": {},
   "outputs": [],
   "source": [
    "hd ;;"
   ]
  },
  {
   "cell_type": "code",
   "execution_count": 34,
   "metadata": {},
   "outputs": [],
   "source": [
    "tl ;;"
   ]
  },
  {
   "cell_type": "markdown",
   "metadata": {},
   "source": [
    "\n",
    "Symbols `'a` and `'b` are called _type variables_ and stand for any types. Code\n",
    "written using these functions is checked for type correctness at compile time.\n",
    "And this guarantees strong properties at run time, for example that the\n",
    "elements of any list all have the same type.\n"
   ]
  },
  {
   "cell_type": "markdown",
   "metadata": {},
   "source": [
    "### Computing the Length of a List\n",
    "\n",
    "\n"
   ]
  },
  {
   "cell_type": "code",
   "execution_count": 35,
   "metadata": {},
   "outputs": [],
   "source": [
    "let rec nlength = function\n",
    " | [] -> 0\n",
    " | x :: xs -> 1 + nlength xs ;;"
   ]
  },
  {
   "cell_type": "code",
   "execution_count": 36,
   "metadata": {},
   "outputs": [],
   "source": [
    "nlength [] ;;"
   ]
  },
  {
   "cell_type": "code",
   "execution_count": 37,
   "metadata": {},
   "outputs": [],
   "source": [
    "nlength [5; 6; 7] ;;"
   ]
  },
  {
   "cell_type": "markdown",
   "metadata": {},
   "source": [
    "\n",
    "$$\n",
    "\\begin{align*}\n",
    "nlength[a,b,c] \\Rightarrow & 1 + nlength[b,c] \\\\\n",
    "   \\Rightarrow & 1 + (1 + nlength[c]) \\\\\n",
    "   \\Rightarrow & 1 + (1 + (1 + nlength[])) \\\\\n",
    "   \\Rightarrow & 1 + (1 + (1 + 0)) \\\\\n",
    "   \\Rightarrow & \\ldots \\;\\; 3\n",
    "\\end{align*}\n",
    "$$\n",
    "\n",
    "Most list processing involves recursion.  This is a simple example; patterns\n",
    "can be more complex.  Observe the use of a vertical bar `|` to separate the function's\n",
    "clauses.  We have _one_ function declaration that handles two cases.\n",
    "To understand its role, consider the following faulty code:\n"
   ]
  },
  {
   "cell_type": "code",
   "execution_count": 38,
   "metadata": {},
   "outputs": [],
   "source": [
    "let rec nlength [] = 0 ;;"
   ]
  },
  {
   "cell_type": "code",
   "execution_count": 39,
   "metadata": {},
   "outputs": [],
   "source": [
    "let rec nlength (x::xs) = 1 + nlength xs ;;"
   ]
  },
  {
   "cell_type": "markdown",
   "metadata": {},
   "source": [
    "\n",
    "These are two declarations, not one.  First we declare `nlength` to be a\n",
    "function that handles only empty lists.  Then we redeclare it to be a function\n",
    "that handles only non-empty lists; it can never deliver a result.  We see that\n",
    "a second `let` declaration replaces any previous one rather than extending it\n",
    "to cover new cases.\n",
    "\n",
    "Now, let us return to the declaration shown on the slide.  The length function\n",
    "is _polymorphic_ and applies to _all_ lists regardless of element\n",
    "type!  Most programming languages lack such flexibility.\n",
    "\n",
    "Unfortunately, this length computation is naive and wasteful.  Like\n",
    "`nsum` earlier, it is not tail-recursive.  It\n",
    "uses $O(n)$ space, where $n$ is the length of its input.  As usual, the\n",
    "solution is to add an accumulating argument.\n"
   ]
  },
  {
   "cell_type": "markdown",
   "metadata": {},
   "source": [
    "### Efficiently Computing the Length of a List\n",
    "\n",
    "\n"
   ]
  },
  {
   "cell_type": "code",
   "execution_count": 40,
   "metadata": {},
   "outputs": [],
   "source": [
    "let rec addlen = function\n",
    "  | (n, []) -> n\n",
    "  | (n, x::xs) -> addlen (n+1, xs) ;;"
   ]
  },
  {
   "cell_type": "code",
   "execution_count": 41,
   "metadata": {},
   "outputs": [],
   "source": [
    "addlen (0, [5;6;7]) ;;"
   ]
  },
  {
   "cell_type": "markdown",
   "metadata": {},
   "source": [
    "\n",
    "$$\n",
    "\\begin{align*}\n",
    "addlen(0, [a,b,c]) \\Rightarrow &  addlen(1, [b,c]) \\\\\n",
    "  \\Rightarrow  & addlen(2, [c]) \\\\\n",
    "  \\Rightarrow  & addlen(3, []) \\\\\n",
    "  \\Rightarrow  & 3\n",
    "\\end{align*}\n",
    "$$\n",
    "\n",
    "Patterns can be as complicated as we like.  Here, the two patterns are\n",
    "`(n,[])` and `(n,x::xs)`.\n",
    "\n",
    "Function `addlen` is again polymorphic.  Its type mentions the integer\n",
    "accumulator.\n",
    "\n",
    "Now we may declare an efficient length function.  It is simply a wrapper for\n",
    "`addlen`, supplying zero as the initial value of $n$.\n"
   ]
  },
  {
   "cell_type": "code",
   "execution_count": 42,
   "metadata": {},
   "outputs": [],
   "source": [
    "let length xs = addlen (0, xs) ;;"
   ]
  },
  {
   "cell_type": "code",
   "execution_count": 43,
   "metadata": {},
   "outputs": [],
   "source": [
    "length [5;6;7;8] ;;"
   ]
  },
  {
   "cell_type": "markdown",
   "metadata": {},
   "source": [
    "\n",
    "The recursive calls do not nest: this version is iterative.  It takes $O(1)$\n",
    "space.  Obviously its time requirement is $O(n)$ because it takes at least $n$\n",
    "steps to find the length of an $n$-element list.\n"
   ]
  },
  {
   "cell_type": "markdown",
   "metadata": {},
   "source": [
    "### Append: List Concatenation\n",
    "\n",
    "\n"
   ]
  },
  {
   "cell_type": "code",
   "execution_count": 44,
   "metadata": {},
   "outputs": [],
   "source": [
    "let rec append = function\n",
    "  | ([], ys) -> ys\n",
    "  | (x::xs, ys) -> x :: append (xs,ys) ;;"
   ]
  },
  {
   "cell_type": "code",
   "execution_count": 45,
   "metadata": {},
   "outputs": [],
   "source": [
    "append ([1;2;3], [4]) ;;"
   ]
  },
  {
   "cell_type": "markdown",
   "metadata": {},
   "source": [
    "\n",
    "$$\n",
    "\\begin{align*}\n",
    "append([1;2;3], [4]) \\Rightarrow & 1 :: append([2;3], [4]) \\\\\n",
    "  \\Rightarrow & 1 :: (2 :: append([3], [4])) \\\\\n",
    "  \\Rightarrow & 1 :: (2 :: (3 :: append([], [4]))) \\\\\n",
    "  \\Rightarrow & 1 :: (2 :: (3 :: [4])) \\;; [1;2;3;4]\n",
    "\\end{align*}\n",
    "$$\n",
    "\n",
    "Here is how append might be declared, ignoring the details of how `@` is made\n",
    "an infix operator.  This function is also not iterative.  It scans its first\n",
    "argument, sets up a string of `cons' operations (`::`) and finally does them.\n",
    "\n",
    "It uses $O(n)$ space and time, where $n$ is the length of its first argument.\n",
    "_Its costs are independent of its second argument._\n",
    "\n",
    "An accumulating argument could make it iterative, but with considerable\n",
    "complication.  The iterative version would still require $O(n)$ space and time\n",
    "because concatenation requires copying all the elements of the first list.\n",
    "Therefore, we cannot hope for asymptotic gains; at best we can decrease the\n",
    "constant factor involved in $O(n)$, but complicating the code is likely to\n",
    "increase that factor.  Never add an accumulator merely out of habit.\n",
    "\n",
    "Note append's polymorphic type. It tells us that two lists can be joined if\n",
    "their element types agree.\n"
   ]
  },
  {
   "cell_type": "markdown",
   "metadata": {},
   "source": [
    "### Reversing a List in O(n^2)\n",
    "\n",
    "\n",
    "\n",
    "nrev \n"
   ]
  },
  {
   "cell_type": "code",
   "execution_count": 46,
   "metadata": {},
   "outputs": [],
   "source": [
    "let rec nrev = function\n",
    "  | [] -> []\n",
    "  | x::xs -> (nrev xs) @ [x] ;;"
   ]
  },
  {
   "cell_type": "code",
   "execution_count": 47,
   "metadata": {},
   "outputs": [],
   "source": [
    "nrev [1;2;3] ;;"
   ]
  },
  {
   "cell_type": "markdown",
   "metadata": {},
   "source": [
    "\n",
    "$$\n",
    "\\begin{align*}\n",
    "nrev[a;b;c] \\Rightarrow & nrev[b,c] @ [a] \\\\\n",
    "  \\Rightarrow &  (nrev[c] @ [b]) @ [a] \\\\\n",
    "  \\Rightarrow &  ((nrev[] @ [c]) @ [b]) @ [a] \\\\\n",
    "  \\Rightarrow &  (([] @ [c]) @ [b]) @ [a] \\;; \\ldots \\;; [c,b,a]\n",
    "\\end{align*}\n",
    "$$\n",
    "\n",
    "This reverse function is grossly inefficient due to poor usage of append,\n",
    "which copies its first argument.  If `nrev` is given a list of length\n",
    "$n>0$, then append makes $n-1$ conses to copy the reversed tail.  Constructing\n",
    "the list `[x]` calls `cons` again, for a total of $n$ calls.  Reversing\n",
    "the tail requires $n-1$ more conses, and so forth.  The total number of conses\n",
    "is:\n",
    "\n",
    "$$ 0 + 1 + 2 + \\cdots + n = {n(n+1)/2} $$\n",
    "\n",
    "The time complexity is therefore $O(n^2)$.  Space complexity is only $O(n)$\n",
    "because the copies don't all exist at the same time.\n"
   ]
  },
  {
   "cell_type": "markdown",
   "metadata": {},
   "source": [
    "### Reversing a List in O(n)\n",
    "\n",
    "\n"
   ]
  },
  {
   "cell_type": "code",
   "execution_count": 48,
   "metadata": {},
   "outputs": [],
   "source": [
    "let rec revApp = function\n",
    "  | ([], ys) -> ys\n",
    "  | (x::xs, ys) -> revApp (xs, x::ys)"
   ]
  },
  {
   "cell_type": "markdown",
   "metadata": {},
   "source": [
    "\n",
    "$$\n",
    "\\begin{align*}\n",
    "revApp([a;b;c], []) \\Rightarrow & revApp([b,c], [a]) \\\\\n",
    "  \\Rightarrow & revApp([c], [b;a]) \\\\\n",
    "  \\Rightarrow & revApp([], [c;b;a]) \\\\\n",
    "  \\Rightarrow & [c;b;a]\n",
    "\\end{align*}\n",
    "$$\n",
    "\n",
    "Calling `revApp (xs,ys)` reverses the elements of `xs` and\n",
    "prepends them to `ys`.  Now we may declare\n"
   ]
  },
  {
   "cell_type": "code",
   "execution_count": 49,
   "metadata": {},
   "outputs": [],
   "source": [
    "let rev xs = revApp (xs, []) ;;"
   ]
  },
  {
   "cell_type": "code",
   "execution_count": 50,
   "metadata": {},
   "outputs": [],
   "source": [
    "rev [1;2;3] ;;"
   ]
  },
  {
   "cell_type": "markdown",
   "metadata": {},
   "source": [
    "\n",
    "It is easy to see that this reverse function performs just $n$ conses, given\n",
    "an $n$-element list.  For both reverse functions, we could count the number of\n",
    "conses precisely---not just up to a constant factor.  $O$ notation is still\n",
    "useful to describe the overall running time: the time taken by a cons\n",
    "varies from one system to another.\n",
    "\n",
    "The accumulator $y$ makes the function iterative.  But the gain in complexity\n",
    "arises from the removal of `append`.  Replacing an expensive operation (append)\n",
    "by a series of cheap operations (cons) is called _reduction in strength_\n",
    "and is a common technique in computer science.  It originated when many\n",
    "computers did not have a hardware multiply instruction; the series of products\n",
    "$i\\times r$ for $i=0$, $\\ldots, n$ could more efficiently be computed by\n",
    "repeated addition.  Reduction in strength can be done in various ways; we\n",
    "shall see many instances of removing append.\n",
    "\n",
    "Consing to an accumulator produces the result in reverse.  If\n",
    "that forces the use of an extra list reversal then the iterative function\n",
    "may be much slower than the recursive one.\n",
    "\n",
    "TODO strings\n"
   ]
  },
  {
   "cell_type": "markdown",
   "metadata": {},
   "source": [
    "## Lecture 4: More on Lists\n",
    "\n",
    "\n"
   ]
  },
  {
   "cell_type": "markdown",
   "metadata": {},
   "source": [
    "### List Utilities: take and drop\n",
    "\n",
    "\n",
    "\n",
    "Removing the first $i$ elements of a list can be done as follows:\n"
   ]
  },
  {
   "cell_type": "code",
   "execution_count": 51,
   "metadata": {},
   "outputs": [],
   "source": [
    "let rec take = function\n",
    "  | ([], _) -> []\n",
    "  | (x::xs, i) ->\n",
    "      if i > 0 then\n",
    "        x :: take (xs, i-1)\n",
    "      else\n",
    "        [] ;;"
   ]
  },
  {
   "cell_type": "code",
   "execution_count": 52,
   "metadata": {},
   "outputs": [],
   "source": [
    "let rec drop = function\n",
    "  | ([], _) -> []\n",
    "  | (x::xs, i) ->\n",
    "      if i > 0 then\n",
    "        drop (xs, i-1)\n",
    "      else\n",
    "        x::xs ;;"
   ]
  },
  {
   "cell_type": "markdown",
   "metadata": {},
   "source": [
    "\n",
    "This lecture examines more list utilities, illustrating more patterns of\n",
    "recursion, and concludes with a small program for making change.\n",
    "\n",
    "The functions `take` and `drop` divide a list\n",
    "into parts, returning or discarding the first $i$ elements.\n",
    "\n",
    "$$\n",
    "xs = [\\underbrace{x_0,\\ldots,x_{i-1}}_{\\textstyle take(xs,i)},\n",
    "      \\underbrace{x_i,\\ldots,x_{n-1}}_{\\textstyle drop(xs,i)} ]\n",
    "$$\n",
    "\n",
    "Applications of `take` and `drop` will appear in future lectures.  Typically,\n",
    "they divide a collection of items into equal parts for recursive processing.\n",
    "\n",
    "The special pattern variable `_` appears in both functions.  This _wildcard\n",
    "pattern_ matches anything.  We could have written `i` in both positions, but\n",
    "the wildcard reminds us that the relevant clause ignores this argument.\n",
    "\n",
    "Function `take` is not iterative, but making it so would not improve\n",
    "its efficiency.  The task requires copying up to $i$ list elements, which must\n",
    "take $O(i)$ space and time.\n",
    "\n",
    "Function `drop` simply skips over $i$ list elements.  This requires\n",
    "$O(i)$ time but only constant space.  It is iterative and much faster than\n",
    "\\texttt{take}.  Both functions use $O(i)$ time, but skipping elements is faster\n",
    "than copying them:  \\texttt{drop}'s constant factor is smaller.\n",
    "\n",
    "Both functions take a list and an integer, returning a list of the same type.\n",
    "So their type is `'a list * int -> 'a list`.\n"
   ]
  },
  {
   "cell_type": "markdown",
   "metadata": {},
   "source": [
    "### Linear Search\n",
    "\n",
    "\n",
    "\n",
    "TODO slide\n",
    "\n",
    "_Linear search_ is the obvious way to find a desired item in a\n",
    "collection: simply look through all the items, one at a time.  If $x$ is in\n",
    "the list, then it will be found in $n/2$ steps on average, and even the worst\n",
    "case is obviously $O(n)$.\n",
    "\n",
    "Large collections of data are usually ordered or indexed so that items can be\n",
    "found in $O(\\log n)$ time, which is exponentially better than $O(n)$.  Even\n",
    "$O(1)$ is achievable (using a _hash table_), though subject to the usual\n",
    "proviso that machine limits are not exceeded.\n",
    "\n",
    "Efficient indexing methods are of prime importance: consider Web\n",
    "search engines.  Nevertheless, linear search is often used to search small\n",
    "collections because it is so simple and general, and it is the starting point\n",
    "for better algorithms.\n"
   ]
  },
  {
   "cell_type": "markdown",
   "metadata": {},
   "source": [
    "### Equality Tests\n",
    "\n",
    "\n",
    "\n",
    "TODO describe OCaml runtime equality tests\n"
   ]
  },
  {
   "cell_type": "markdown",
   "metadata": {},
   "source": [
    "### Building a List of Pairs\n",
    "\n",
    "\n"
   ]
  },
  {
   "cell_type": "code",
   "execution_count": 53,
   "metadata": {},
   "outputs": [],
   "source": [
    "let rec zip = function\n",
    "  | (x::xs, y::ys) -> (x,y) :: zip (xs,ys)\n",
    "  | _ -> [] ;;"
   ]
  },
  {
   "cell_type": "markdown",
   "metadata": {},
   "source": [
    "\n",
    "$$ \\left.[x_1,\\ldots,x_n]\\atop\n",
    "         [y_1,\\ldots,y_n]\\right\\}\\;\\longmapsto\\;[(x_1,y_1),\\ldots,(x_n,y_n)]\n",
    "$$\n",
    "\n",
    "The _wildcard_ pattern `_` matches _anything_. The patterns are also tested\n",
    "in order of their definitions.\n",
    "\n",
    "A list of pairs of the form $[(x_1,y_1),\\ldots,(x_n,y_n)]$ associates each\n",
    "$x_i$ with $y_i$.  Conceptually, a telephone directory could be regarded as\n",
    "such a list, where $x_i$ ranges over names and $y_i$ over the corresponding\n",
    "telephone number.  Linear search in such a list can find the $y_i$ associated\n",
    "with a given $x_i$, or vice versa---very slowly.\n",
    "\n",
    "In other cases, the $(x_i,y_i)$ pairs might have been generated by applying a\n",
    "function to the elements of another list $[z_1,\\ldots,z_n]$.\n"
   ]
  },
  {
   "cell_type": "code",
   "execution_count": 54,
   "metadata": {},
   "outputs": [],
   "source": [
    "let rec unzip = function\n",
    " | [] -> ([], [])\n",
    " | (x,y)::pairs ->\n",
    "     let xs,ys = unzip pairs in\n",
    "     (x::xs, y::ys) ;;"
   ]
  },
  {
   "cell_type": "markdown",
   "metadata": {},
   "source": [
    "\n",
    "The functions `zip` and `unzip` build and take apart lists of\n",
    "pairs: `zip` pairs up corresponding list elements and `unzip`\n",
    "inverts this operation.  Their types reflect what they do:\n"
   ]
  },
  {
   "cell_type": "code",
   "execution_count": 55,
   "metadata": {},
   "outputs": [],
   "source": [
    "zip ;;"
   ]
  },
  {
   "cell_type": "code",
   "execution_count": 56,
   "metadata": {},
   "outputs": [],
   "source": [
    "unzip ;;"
   ]
  },
  {
   "cell_type": "markdown",
   "metadata": {},
   "source": [
    "\n",
    "If the lists are of unequal length, `zip` discards surplus items at the\n",
    "end of the longer list.  Its first pattern only matches a pair of non-empty\n",
    "lists.  The second pattern is just a wildcard and could match anything.  ML\n",
    "tries the clauses in the order given, so the first pattern is tried first.\n",
    "The second only gets arguments where at least one of the lists is empty.\n"
   ]
  },
  {
   "cell_type": "markdown",
   "metadata": {},
   "source": [
    "### Building a Pair of Results\n",
    "\n",
    "\n"
   ]
  },
  {
   "cell_type": "code",
   "execution_count": 57,
   "metadata": {},
   "outputs": [],
   "source": [
    "let rec unzip = function\n",
    " | [] -> ([], [])\n",
    " | (x,y)::pairs ->\n",
    "     let xs,ys = unzip pairs in\n",
    "     (x::xs, y::ys) ;;"
   ]
  },
  {
   "cell_type": "code",
   "execution_count": 58,
   "metadata": {},
   "outputs": [],
   "source": [
    "let rec revUnzip = function\n",
    "  | ([], xs, ys) -> (xs, ys)\n",
    "  | ((x,y)::pairs, xs, ys) ->\n",
    "      revUnzip (pairs, x::xs, y::ys) ;;"
   ]
  },
  {
   "cell_type": "markdown",
   "metadata": {},
   "source": [
    "\n",
    "Given a list of pairs, `unzip` has to build _two_ lists of\n",
    "results, which is awkward using recursion.  The version shown about uses the\n",
    "_local declaration_ `let D in E`,\n",
    "where $D$ consists of declarations and $E$ is the expression that can use\n",
    "them. The let-construct counts as an expression and can be used\n",
    "(perhaps wrapped within parentheses) wherever an expression is expected.\n",
    "\n",
    "Note especially the declaration `let xs,ys = unzip pairs`\n",
    "which binds `xs` and `ys` to the results of the recursive call.\n",
    "In general, the declaration `let P = E` matches the\n",
    "pattern $P$ against the value of expression $E$.  It binds all the variables\n",
    "in $P$ to the corresponding values.\n",
    "\n",
    "Here is a version of `unzip` that replaces the local declaration by a\n",
    "function `conspair` for taking apart the pair of lists in the\n",
    "recursive call.  It defines the same\n",
    "computation as the previous version of `unzip` and is possibly clearer,\n",
    "but not every local declaration can be eliminated as easily.\n"
   ]
  },
  {
   "cell_type": "code",
   "execution_count": 59,
   "metadata": {},
   "outputs": [],
   "source": [
    "let conspair ((x,y), (xs,ys)) = (x::xs, y::ys) ;;"
   ]
  },
  {
   "cell_type": "code",
   "execution_count": 60,
   "metadata": {},
   "outputs": [],
   "source": [
    "let rec unzip = function\n",
    "  | [] -> ([], [])\n",
    "  | xy :: pairs -> conspair (xy, unzip pairs) ;;"
   ]
  },
  {
   "cell_type": "markdown",
   "metadata": {},
   "source": [
    "\n",
    "Making the function iterative yields `revUnzip` above, which is\n",
    "very simple.  Iteration can construct many results at once in different\n",
    "argument positions.  Both output lists are built in reverse order, which can\n",
    "be corrected by reversing the input to `revUnzip`.  The total costs\n",
    "will probably exceed those of `unzip` despite the advantages of\n",
    "iteration.\n"
   ]
  },
  {
   "cell_type": "markdown",
   "metadata": {},
   "source": [
    "### An Application: Making Change\n",
    "\n",
    "\n"
   ]
  },
  {
   "cell_type": "code",
   "execution_count": 61,
   "metadata": {},
   "outputs": [],
   "source": [
    "let rec change = function\n",
    "  | till, 0 -> []\n",
    "  | c::till, amt ->\n",
    "      if amt < c then\n",
    "        change (till, amt)\n",
    "      else\n",
    "        c :: change (c::till, amt-c) ;;"
   ]
  },
  {
   "cell_type": "markdown",
   "metadata": {},
   "source": [
    "\n",
    "- The recursion _terminates_ when `amt = 0`.\n",
    "- Tries the _largest coin first_ to use large coins.\n",
    "- The algorithm is _greedy_ and can fail!\n",
    "\n",
    "The till has unlimited supplies of coins.  The largest coins should be tried\n",
    "first, to avoid giving change all in pennies.  The list of legal coin values,\n",
    "called `till`, is given in descending order, such as 50, 20, 10, 5,\n",
    "2 and 1.  (Recall that the head of a list is the element most easily reached.)\n",
    "The code for `change` is based on simple observations:\n",
    "- Change for zero consists of no coins at all.  (Note the pattern of `0` in the first clause.)\n",
    "- For a nonzero amount, try the largest available coin.  If it is small enough, use it and decrease the amount accordingly.\n",
    "- Exclude from consideration any coins that are too large.\n",
    "\n",
    "Although nobody considers making change for zero, this is the simplest way to\n",
    "make the algorithm terminate.  Most iterative procedures become simplest if,\n",
    "in their base case, they do nothing.  A base case of one instead of zero is\n",
    "often a sign of a novice programmer.\n",
    "\n",
    "The function can terminate either with success or failure.  It fails by\n",
    "raising exception `Match_failure`, signifying that no pattern matches,\n",
    "namely if `till` becomes empty while `amt` is still nonzero.\n",
    "(Exceptions will be discussed later.)\n",
    "\n",
    "Unfortunately, failure can occur even when change can be made.  The greedy\n",
    "`largest coin first' approach is to blame.  Suppose we have coins of values 5\n",
    "and 2, and must make change for 6; the only way is $6=2+2+2$, ignoring the 5.\n",
    "_Greedy algorithms_ are often effective, but not here.\n"
   ]
  },
  {
   "cell_type": "markdown",
   "metadata": {},
   "source": [
    "### All Ways of Making Change\n",
    "\n",
    "\n"
   ]
  },
  {
   "cell_type": "code",
   "execution_count": 62,
   "metadata": {},
   "outputs": [],
   "source": [
    "let rec change = function\n",
    "  | (till, 0) -> [ [] ]\n",
    "  | ([], amt) -> []\n",
    "  | (c::till, amt) ->\n",
    "      if amt < c then\n",
    "        change (till, amt)\n",
    "      else\n",
    "        let rec allc = function\n",
    "          | [] -> []\n",
    "          | cs :: css -> (c::cs) :: allc css\n",
    "        in\n",
    "        allc (change (c::till, amt-c)) @\n",
    "        change (till, amt)\n",
    " ;;"
   ]
  },
  {
   "cell_type": "markdown",
   "metadata": {},
   "source": [
    "\n",
    "Now we generalize the problem to return the list of _all possible ways_ of making change.\n",
    "Look at the type: the result is now a list of lists.\n",
    "\n",
    "The code will never raise exceptions.  It expresses failure by returning an\n",
    "empty list of solutions: it returns `[]` if the till is empty and the\n",
    "amount is nonzero.\n",
    "\n",
    "If the amount is zero, then there is only one way of making change;\n",
    "the result should be `[[]]`.  This is success in the base case.\n",
    "\n",
    "In nontrivial cases, there are two sources of solutions: to use a coin (if\n",
    "possible) and decrease the amount accordingly, or to remove the current coin\n",
    "value from consideration.\n",
    "\n",
    "The function `allc` is declared locally in order to make use\n",
    "of `c`, the current coin.  It adds an extra `c` to all the\n",
    "solutions returned by the recursive call to make change for `amt - c`.\n",
    "\n",
    "Observe the naming convention: `cs` is a list of coins, while\n",
    "`css` is a list of such lists.  The trailing `s' is suggestive of a\n",
    "plural.\n",
    "\n",
    "This complicated program, and the even trickier one on the next slide, are\n",
    "included as challenges.  Are you enthusiastic enough to work them out?  We\n",
    "shall revisit the \"making change\" task later to illustrate exception-handling.\n"
   ]
  },
  {
   "cell_type": "markdown",
   "metadata": {},
   "source": [
    "### All Ways of Making Change --- Faster!\n",
    "\n",
    "\n"
   ]
  },
  {
   "cell_type": "code",
   "execution_count": 63,
   "metadata": {},
   "outputs": [],
   "source": [
    "let rec change = function\n",
    "  | till, 0, chg, chgs -> chg::chgs\n",
    "  | [], amt, chg, chgs -> chgs\n",
    "  | c::till, amt, chg, chgs ->\n",
    "      if amt < 0 then\n",
    "        chgs\n",
    "      else\n",
    "        change (c::till, amt-c, c::chg,\n",
    "                change (till, amt, chg, chgs))\n",
    ";;"
   ]
  },
  {
   "cell_type": "markdown",
   "metadata": {},
   "source": [
    "We've added _another_ accumulating parameter!  Repeatedly improving simple code\n",
    "is called _stepwise refinement_.\n",
    "\n",
    "Two extra arguments eliminate many `::` and append operations from the previous\n",
    "slide's change function.  The first, `chg`, accumulates the coins chosen so\n",
    "far; one evaluation of c::chg} replaces many evaluations of \\texttt{allc}.  The\n",
    "second, `chgs`, accumulates the list of solutions so far; it avoids the need\n",
    "for append.  This version runs several times faster than the previous one.\n",
    "\n",
    "Making change is still extremely slow for an obvious reason: the number of\n",
    "solutions grows rapidly in the amount being changed.  Using 50, 20, 10, 5,\n",
    "2 and 1, there are 4366 ways of expressing 99.\n",
    " \n",
    "Our three change functions illustrate a basic technique: program development\n",
    "by stepwise refinement.  Begin by writing a very simple program and add\n",
    "requirements individually.  Add efficiency refinements last of all.\n",
    "Even if the simpler program cannot be included in the next version and has\n",
    "to be discarded, one has learned about the task by writing it.\n"
   ]
  },
  {
   "cell_type": "markdown",
   "metadata": {},
   "source": [
    "## Lecture 5: Sorting\n",
    "\n",
    "\n",
    "\n",
    "### Sorting: Arranging Items into Order\n",
    "\n",
    "A few applications:\n",
    "- search\n",
    "- merging\n",
    "- duplicates\n",
    "- inverting tables\n",
    "- graphics algorithms\n",
    "\n",
    "Sorting is perhaps the most deeply studied aspect of algorithm design.\n",
    "Knuth's series _The Art of Computer Programming_ devotes an entire\n",
    "volume to sorting and searching!  Sedgewick (TODO cite)\n",
    "also covers sorting.  Sorting has countless applications.\n",
    "\n",
    "Sorting a collection allows items to be found quickly.  Recall that linear\n",
    "search requires $O(n)$ steps to search among $n$ items.  A sorted collection\n",
    "admits _binary search_ which requires only $O(\\log n)$ time.  The idea\n",
    "of binary search is to compare the item being sought with the middle item (in\n",
    "position $n/2$) and then to discard either the left half or the right,\n",
    "depending on the result of the comparison.  Binary search needs arrays or\n",
    "trees, not lists; we shall come to binary search trees later.\n",
    "\n",
    "Two sorted files can quickly be _merged_ to form a larger sorted file.  Other\n",
    "applications include finding _duplicates_ that, after sorting, are adjacent.\n",
    "\n",
    "A telephone directory is sorted alphabetically by name.  The same information\n",
    "can instead be sorted by telephone number (useful to the police) or by street\n",
    "address (useful to junk-mail firms).  Sorting information in different ways\n",
    "gives it different applications.\n",
    "\n",
    "Common sorting algorithms include insertion sort, quicksort,\n",
    "mergesort and heapsort.  We shall consider the first three of\n",
    "these.  Each algorithm has its advantages.\n",
    "\n",
    "As a concrete basis for comparison, runtimes are quoted for DECstation\n",
    "computers.  (These were based on the MIPS chip, an early RISC design.)\n",
    "(TODO add benchmarks)\n"
   ]
  },
  {
   "cell_type": "markdown",
   "metadata": {},
   "source": [
    "### How Fast Can We Sort?\n",
    "\n",
    "\n",
    "\n",
    "- typically count _comparisons_ $C(n)$\n",
    "- there are $n!$ permutations of $n$ elements\n",
    "- each comparison eliminates _half_ of the permutations $2^{C(n)}\\geq n!$\n",
    "- therefore $C(n)\\geq \\log(n!)\\approx n\\log n-1.44n$\n",
    "\n",
    "The usual measure of efficiency for sorting algorithms is the number of\n",
    "comparison operations required.  Mergesort requires only $O(n\\log n)$\n",
    "comparisons to sort an input of $n$ items.  It is straightforward to prove\n",
    "that this complexity is the best possible (TODO cite pages 86--7  aho74).  There\n",
    "are $n!$ permutations of $n$ elements and each comparison distinguishes two\n",
    "permutations.  The lower bound on the number of comparisons, $C(n)$, is\n",
    "obtained by solving $2^{C(n)}\\geq n!$; therefore $C(n)\\geq \\log(n!)\\approx\n",
    "n\\log n-1.44n$.\n",
    "\n",
    "In order to compare the sorting algorithms, we use the following source of\n",
    "pseudo-random numbers (TODO cite park88). Never mind how this works: generating\n",
    "statistically good random numbers is hard.  Much effort has gone into those few\n",
    "lines of code.\n"
   ]
  },
  {
   "cell_type": "code",
   "execution_count": 64,
   "metadata": {},
   "outputs": [],
   "source": [
    "let nextrandom seed =\n",
    "  let a = 16807.0 in\n",
    "  let m = 2147483647.0 in\n",
    "  let t = a *. seed in\n",
    "  t -. m *. (floor (t /. m)) ;;"
   ]
  },
  {
   "cell_type": "code",
   "execution_count": 65,
   "metadata": {},
   "outputs": [],
   "source": [
    "let rec randlist (seed,seeds) = function\n",
    "  | 0 -> (seed, seeds)\n",
    "  | n -> randlist (nextrandom seed, seed::seeds) (n-1) ;;"
   ]
  },
  {
   "cell_type": "markdown",
   "metadata": {},
   "source": [
    "\n",
    "We can now bind the identifier `rs` to a list of 10,000 random numbers.\n"
   ]
  },
  {
   "cell_type": "code",
   "execution_count": 66,
   "metadata": {},
   "outputs": [],
   "source": [
    "let seed, rs = randlist (1.0, []) 10000 ;;"
   ]
  },
  {
   "cell_type": "markdown",
   "metadata": {},
   "source": [
    "\n",
    "### Insertion Sort\n",
    "\n",
    "An insert does does $n/2$ comparisons on average.\n"
   ]
  },
  {
   "cell_type": "code",
   "execution_count": 67,
   "metadata": {},
   "outputs": [],
   "source": [
    "let rec ins = function\n",
    "  | x, [] -> [x]\n",
    "  | x, y::ys ->\n",
    "      if x <= y then\n",
    "        x :: y :: ys\n",
    "      else\n",
    "        y :: ins (x,ys)"
   ]
  },
  {
   "cell_type": "markdown",
   "metadata": {},
   "source": [
    "\n",
    "_Insertion sort_ takes $O(n^2)$ comparisons on average:\n"
   ]
  },
  {
   "cell_type": "code",
   "execution_count": 68,
   "metadata": {},
   "outputs": [],
   "source": [
    "let rec insort = function\n",
    "    | [] -> []\n",
    "    | x::xs -> ins (x, insort xs)"
   ]
  },
  {
   "cell_type": "markdown",
   "metadata": {},
   "source": [
    "\n",
    "Items from the input are copied one at a time to the output.  Each new item is\n",
    "inserted into the right place so that the output is always in order.\n",
    "\n",
    "We could easily write iterative versions of these functions, but to no purpose.\n",
    "Insertion sort is slow because it does $O(n^2)$ comparisons (and a lot of list\n",
    "copying), not because it is recursive.  Its quadratic runtime makes it nearly\n",
    "useless: it takes 174 seconds for our example while the next-worst figure is\n",
    "1.4 seconds.\n",
    "\n",
    "Insertion sort is worth considering because it is easy to code and illustrates\n",
    "the concepts.  Two efficient sorting algorithms, mergesort and heapsort, can be\n",
    "regarded as refinements of insertion sort.\n",
    "\n",
    "TODO:\n",
    "> The notion of\n",
    "> sorting depends upon the form of comparison being done, which in turn\n",
    "> determines the type of the sorting function.\n",
    "\n",
    "### Quicksort: The Idea\n",
    "\n",
    "- choose a _pivot_ element, $a$\n",
    "- Divide to partition the input into two sublists:\n",
    "  * those _at most_ $a$ in value\n",
    "  * those _exceeding_ $a$\n",
    "- Conquer using recursive calls to sort the sublists\n",
    "- Combine the sorted lists by appending one to the other\n",
    "\n",
    "Quicksort was invented by C. A. R. Hoare, who now works at Microsoft Research,\n",
    "Cambridge.  Quicksort works by _divide and conquer_, a basic algorithm design\n",
    "principle.  Quicksort chooses from the input some value $a$, called the\n",
    "_pivot_.  It partitions the remaining items into two parts: those $\\leq a$, and\n",
    "those $>a$.  It sorts each part recursively, then puts the smaller part before\n",
    "the greater.\n",
    "\n",
    "The cleverest feature of Hoare's algorithm was that the partition could be done\n",
    "_in place_ by exchanging array elements.  Quicksort was invented before\n",
    "recursion was well known, and people found it extremely hard to understand.  As\n",
    "usual, we shall consider a list version based on functional programming.\n"
   ]
  },
  {
   "cell_type": "markdown",
   "metadata": {},
   "source": [
    "### Quicksort: The Code\n",
    "\n",
    "\n"
   ]
  },
  {
   "cell_type": "code",
   "execution_count": 69,
   "metadata": {},
   "outputs": [],
   "source": [
    "let rec quick = function\n",
    "  | [] -> []\n",
    "  | [x] -> [x]\n",
    "  | a::bs ->\n",
    "      let rec part = function\n",
    "        | (l,r,[]) -> (quick l) @ (a :: quick r)\n",
    "        | (l,r,x::xs) ->\n",
    "            if (x <= a) then\n",
    "              part (x::l, r, xs)\n",
    "            else\n",
    "              part (l, x::r, xs)\n",
    "      in\n",
    "      part ([], [], bs)"
   ]
  },
  {
   "cell_type": "markdown",
   "metadata": {},
   "source": [
    "\n",
    "Our ML quicksort copies the items.  It is still pretty fast, and it is much\n",
    "easier to understand.  It takes roughly 0.74 seconds to sort our list of random\n",
    "numbers.\n",
    "\n",
    "The function declaration consists of three clauses.  The first handles the\n",
    "empty list; the second handles singleton lists (those of the form `[x]`; the\n",
    "third handles lists of two or more elements.  Often, lists of length up to five\n",
    "or so are treated as special cases to boost speed.\n",
    "\n",
    "The locally declared function `part` partitions the input using `a` as the\n",
    "pivot.  The arguments `l` and `r` accumulate items for the left ($\\leq a$) and\n",
    "right ($>a$) parts of the input, respectively.\n",
    "\n",
    "It is not hard to prove that quicksort does $n\\log n$ comparisons, _in the average case_\n",
    "(TODO cite page 94 aho74).  With random data, the pivot\n",
    "usually has an average value that divides the input in two approximately equal\n",
    "parts.  We have the recurrence $T(1) = 1$ and $T(n) = 2T(n/2)+n$, which is\n",
    "$O(n\\log n)$.  In our example, it is about 235 times faster than insertion\n",
    "sort.\n",
    "\n",
    "In the worst case, quicksort's running time is quadratic!  An example is when\n",
    "its input is almost sorted or reverse sorted.  Nearly all of the items end up\n",
    "in one partition; work is not divided evenly.  We have the recurrence\n",
    "$T(1) = 1$ and $T(n+1) = T(n)+n$, which is $O(n^2)$.  Randomizing the input\n",
    "makes the worst case highly unlikely.\n"
   ]
  },
  {
   "cell_type": "markdown",
   "metadata": {},
   "source": [
    "### Append-Free Quicksort\n",
    "\n",
    "\n"
   ]
  },
  {
   "cell_type": "code",
   "execution_count": 70,
   "metadata": {},
   "outputs": [],
   "source": [
    "let rec quik = function\n",
    "  | ([], sorted) -> sorted\n",
    "  | ([x], sorted) -> x::sorted\n",
    "  | a::bs, sorted ->\n",
    "     let rec part = function\n",
    "       | l, r, [] -> quik (l, a :: quik (r,sorted))\n",
    "       | l, r, x::xs ->\n",
    "           if x <= a then\n",
    "             part (x::l, r, xs)\n",
    "           else\n",
    "             part (l, x::r, xs)\n",
    "     in\n",
    "     part ([], [], bs)"
   ]
  },
  {
   "cell_type": "markdown",
   "metadata": {},
   "source": [
    "\n",
    "The list `sorted` accumulates the result in the _combine_ stage of\n",
    "the quicksort algorithm.  We have again used the standard technique for\n",
    "eliminating append.  Calling `quik(xs,sorted)` reverses the elements of\n",
    "`xs` and prepends them to the list `sorted`.\n",
    "\n",
    "Looking closely at `part`, observe that `quik(r,sorted)` is\n",
    "performed first.  Then `a` is consed to this sorted list.  Finally,\n",
    "`quik` is called again to sort the elements of `l`.\n"
   ]
  }
 ],
 "metadata": {
  "kernelspec": {
   "display_name": "OCaml default",
   "language": "OCaml",
   "name": "ocaml-jupyter"
  },
  "language_info": {
   "codemirror_mode": "text/x-ocaml",
   "file_extension": ".ml",
   "mimetype": "text/x-ocaml",
   "name": "OCaml",
   "nbconverter_exporter": null,
   "pygments_lexer": "OCaml",
   "version": "4.08.1"
  }
 },
 "nbformat": 4,
 "nbformat_minor": 2
}
